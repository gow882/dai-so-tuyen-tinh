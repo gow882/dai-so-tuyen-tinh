{
  "nbformat": 4,
  "nbformat_minor": 0,
  "metadata": {
    "colab": {
      "provenance": []
    },
    "kernelspec": {
      "name": "python3",
      "display_name": "Python 3"
    },
    "language_info": {
      "name": "python"
    }
  },
  "cells": [
    {
      "cell_type": "code",
      "execution_count": null,
      "metadata": {
        "id": "I8Dkp-lZddgj"
      },
      "outputs": [],
      "source": []
    },
    {
      "cell_type": "code",
      "source": [
        "import numpy as np\n",
        "\n",
        "# Khởi tạo một mảng 2x2 gồm các ký tự\n",
        "x = np.array([['a', 'b'], ['c', 'd']])\n",
        "y = 'x'\n",
        "\n",
        "# Dùng np.array với dtype=object để chứa các phần tử khác kiểu\n",
        "C = np.array([[x, y], [1, 2]], dtype=object)\n",
        "print(\"Ma trận C (kiểu object):\")\n",
        "print(C)\n",
        "\n",
        "# Thử tạo np.matrix 3 chiều -> lỗi\n",
        "try:\n",
        "    A = np.matrix([[[1, 2], [3, 4]], [[5, 6], [7, 8]]])\n",
        "except ValueError as e:\n",
        "    print(\"\\nLỗi khi tạo np.matrix 3 chiều:\")\n",
        "    print(e)\n",
        "\n",
        "# Dùng np.array cho mảng 3 chiều (hợp lệ)\n",
        "A = np.array([[[1, 2], [3, 4]], [[5, 6], [7, 8]]])\n",
        "print(\"\\nMảng 3 chiều A dùng np.array:\")\n",
        "print(A)\n"
      ],
      "metadata": {
        "colab": {
          "base_uri": "https://localhost:8080/"
        },
        "id": "EQ25uhmbdh-S",
        "outputId": "67c39081-1e5d-409a-b34f-6c1aae715d01"
      },
      "execution_count": 3,
      "outputs": [
        {
          "output_type": "stream",
          "name": "stdout",
          "text": [
            "Ma trận C (kiểu object):\n",
            "[[array([['a', 'b'],\n",
            "         ['c', 'd']], dtype='<U1') 'x']\n",
            " [1 2]]\n",
            "\n",
            "Lỗi khi tạo np.matrix 3 chiều:\n",
            "matrix must be 2-dimensional\n",
            "\n",
            "Mảng 3 chiều A dùng np.array:\n",
            "[[[1 2]\n",
            "  [3 4]]\n",
            "\n",
            " [[5 6]\n",
            "  [7 8]]]\n"
          ]
        }
      ]
    },
    {
      "cell_type": "code",
      "source": [
        "from google.colab import drive\n",
        "drive.mount('/content/drive')"
      ],
      "metadata": {
        "id": "fBhLXbuzhC4k"
      },
      "execution_count": null,
      "outputs": []
    },
    {
      "cell_type": "code",
      "source": [
        "import numpy as np\n",
        "\n",
        "# Khởi tạo một mảng 2x2 gồm các ký tự\n",
        "x = np.array([['a', 'b'], ['c', 'd']])\n",
        "y = 'x'\n",
        "\n",
        "# Dùng np.array với dtype=object để chứa các phần tử khác kiểu\n",
        "C = np.array([[x, y], [1, 2]], dtype=object)\n",
        "print(\"Ma trận C (kiểu object):\")\n",
        "print(C)\n",
        "\n",
        "# Thử tạo np.matrix 3 chiều -> lỗi\n",
        "try:\n",
        "    A = np.matrix([[[1, 2], [3, 4]], [[5, 6], [7, 8]]])\n",
        "except ValueError as e:\n",
        "    print(\"\\nLỗi khi tạo np.matrix 3 chiều:\")\n",
        "    print(e)\n",
        "\n",
        "# Dùng np.array cho mảng 3 chiều (hợp lệ)\n",
        "A = np.array([[[1, 2], [3, 4]], [[5, 6], [7, 8]]])\n",
        "print(\"\\nMảng 3 chiều A dùng np.array:\")\n",
        "print(A)\n"
      ],
      "metadata": {
        "colab": {
          "base_uri": "https://localhost:8080/"
        },
        "id": "Xo3OQS3KeDza",
        "outputId": "2576a277-2e5a-4fb9-d348-413b11a76ea7"
      },
      "execution_count": 5,
      "outputs": [
        {
          "output_type": "stream",
          "name": "stdout",
          "text": [
            "Ma trận C (kiểu object):\n",
            "[[array([['a', 'b'],\n",
            "         ['c', 'd']], dtype='<U1') 'x']\n",
            " [1 2]]\n",
            "\n",
            "Lỗi khi tạo np.matrix 3 chiều:\n",
            "matrix must be 2-dimensional\n",
            "\n",
            "Mảng 3 chiều A dùng np.array:\n",
            "[[[1 2]\n",
            "  [3 4]]\n",
            "\n",
            " [[5 6]\n",
            "  [7 8]]]\n"
          ]
        }
      ]
    },
    {
      "cell_type": "code",
      "source": [
        "from numpy import matlib\n",
        "\n",
        "# Tạo ma trận đơn vị 5x5\n",
        "G = matlib.identity(5)\n",
        "print(\"Ma trận đơn vị G:\")\n",
        "print(G)\n",
        "\n",
        "# Tạo ma trận ngẫu nhiên chuẩn (Gaussian) 3x2\n",
        "H = matlib.randn(3, 2)\n",
        "print(\"\\nMa trận ngẫu nhiên H (chuẩn):\")\n",
        "print(H)\n",
        "\n",
        "# Tạo ma trận toàn số 0 kích thước 4x4\n",
        "K = matlib.zeros([4, 4])\n",
        "print(\"\\nMa trận toàn 0 K:\")\n",
        "print(K)\n"
      ],
      "metadata": {
        "colab": {
          "base_uri": "https://localhost:8080/"
        },
        "id": "NF1u0jyEfFJL",
        "outputId": "775689ea-791f-4498-bc28-74f142fafe16"
      },
      "execution_count": 6,
      "outputs": [
        {
          "output_type": "stream",
          "name": "stdout",
          "text": [
            "Ma trận đơn vị G:\n",
            "[[1. 0. 0. 0. 0.]\n",
            " [0. 1. 0. 0. 0.]\n",
            " [0. 0. 1. 0. 0.]\n",
            " [0. 0. 0. 1. 0.]\n",
            " [0. 0. 0. 0. 1.]]\n",
            "\n",
            "Ma trận ngẫu nhiên H (chuẩn):\n",
            "[[-0.46072506  0.13707185]\n",
            " [-2.20073436  0.08398972]\n",
            " [-0.46780922  0.20671004]]\n",
            "\n",
            "Ma trận toàn 0 K:\n",
            "[[0. 0. 0. 0.]\n",
            " [0. 0. 0. 0.]\n",
            " [0. 0. 0. 0.]\n",
            " [0. 0. 0. 0.]]\n"
          ]
        }
      ]
    },
    {
      "cell_type": "code",
      "source": [
        "import numpy as np\n",
        "\n",
        "# Dãy liên phân số để xấp xỉ số Pi\n",
        "c = [3, 7, 15, 1, 292, 1, 1, 1, 2, 1, 3, 1, 14, 2]\n",
        "\n",
        "# Khởi tạo ma trận đơn vị 2x2\n",
        "M = np.asmatrix([[1, 0], [0, 1]])\n",
        "\n",
        "# Lặp qua từng phần tử trong dãy để tính tích các ma trận\n",
        "for i in range(len(c)):\n",
        "    ci = np.asmatrix([[c[i], 1], [1, 0]])\n",
        "    M = M @ ci  # hoặc M = M.dot(ci)\n",
        "\n",
        "# In ma trận cuối cùng\n",
        "print(\"Ma trận M:\")\n",
        "print(M)\n",
        "\n",
        "# Tính số Pi xấp xỉ\n",
        "pi_approx = M[0, 0] / M[1, 0]\n",
        "print(\"\\nGiá trị gần đúng của số Pi:\")\n",
        "print(pi_approx)\n"
      ],
      "metadata": {
        "colab": {
          "base_uri": "https://localhost:8080/"
        },
        "id": "Yhkr6WjSfVIp",
        "outputId": "db945910-fbce-4ff2-d9ce-8d5c7bc139f0"
      },
      "execution_count": 8,
      "outputs": [
        {
          "output_type": "stream",
          "name": "stdout",
          "text": [
            "Ma trận M:\n",
            "[[165707065  80143857]\n",
            " [ 52746197  25510582]]\n",
            "\n",
            "Giá trị gần đúng của số Pi:\n",
            "3.1415926535897936\n"
          ]
        }
      ]
    },
    {
      "cell_type": "code",
      "source": [
        "import numpy as np\n",
        "\n",
        "# Dữ liệu đầu vào\n",
        "X = np.array([[1, 1], [1, 2], [1, 3], [1, 4], [1, 5]])  # Ma trận X (cột đầu toàn 1 cho hệ số a)\n",
        "Y = np.array([[1.0], [2.0], [4.0], [4.0], [6.0]])      # Vector Y\n",
        "\n",
        "# Tính X.T (chuyển vị của X)\n",
        "XT = X.T\n",
        "\n",
        "# Tính A1 = (X^T X)\n",
        "A1 = XT.dot(X)\n",
        "\n",
        "# Tính A2 = (X^T Y)\n",
        "A2 = XT.dot(Y)\n",
        "\n",
        "# Tính nghiệm A = (X^T X)^-1 * (X^T Y)\n",
        "A = np.linalg.inv(A1).dot(A2)\n",
        "\n",
        "# In phương trình hồi quy\n",
        "print(\"Phương trình hồi quy: y = {:.3f} + {:.3f} * x\".format(A[0, 0], A[1, 0]))\n",
        "\n",
        "# Tính sai số tổng bình phương (residual sum of squares)\n",
        "Y_pred = X.dot(A)\n",
        "error = np.sum((Y - Y_pred)**2)\n",
        "print(\"Tổng bình phương sai số:\", round(error, 3))\n"
      ],
      "metadata": {
        "colab": {
          "base_uri": "https://localhost:8080/"
        },
        "id": "nw-8O2Rdf1SA",
        "outputId": "53629736-f5c5-4361-934f-6beef150db71"
      },
      "execution_count": 9,
      "outputs": [
        {
          "output_type": "stream",
          "name": "stdout",
          "text": [
            "Phương trình hồi quy: y = -0.200 + 1.200 * x\n",
            "Tổng bình phương sai số: 0.8\n"
          ]
        }
      ]
    },
    {
      "cell_type": "code",
      "source": [
        "import numpy as np\n",
        "from numpy import linalg\n",
        "\n",
        "def bpcuctieu(a):\n",
        "    b = []       # chứa giá trị x (1, 2, 3, ...)\n",
        "    o1 = []      # chứa toàn 1 (cho hệ số chặn)\n",
        "\n",
        "    for i in range(len(a)):\n",
        "        o1.append(1.0)\n",
        "        b.append((i + 1) * 1.0)\n",
        "\n",
        "    # Tạo ma trận X (2 x n)\n",
        "    x = np.array([o1, b])\n",
        "    print(\"Ma trận X:\")\n",
        "    print(x)\n",
        "\n",
        "    # Tính U = X * X^T\n",
        "    u = np.dot(x, x.T)\n",
        "    print(\"\\nMa trận U = X * X.T:\")\n",
        "    print(u)\n",
        "\n",
        "    # Tính nghịch đảo của U\n",
        "    u_1 = linalg.inv(u)\n",
        "    print(\"\\nNghịch đảo của U:\")\n",
        "    print(u_1)\n",
        "\n",
        "    # Vector Y (dữ liệu thực tế)\n",
        "    y = np.array(a)\n",
        "    print(\"\\nVector Y:\")\n",
        "    print(y)\n",
        "\n",
        "    # Tính A = (X X^T)^(-1) X Y\n",
        "    v = np.dot(u_1, x)\n",
        "    A = np.dot(v, y)\n",
        "    print(\"\\nHệ số hồi quy A:\")\n",
        "    print(A)\n",
        "\n",
        "    # Phương trình hồi quy tuyến tính\n",
        "    print(\"\\nPhương trình hồi quy:\")\n",
        "    print(f\"y = {A[0]:.4f} + {A[1]:.4f} * x\")\n",
        "\n",
        "    # Dự đoán giá trị ngày kế tiếp (x = len(a)+1)\n",
        "    next_x = len(a) + 1\n",
        "    next_y = A[0] + A[1] * next_x\n",
        "    print(f\"\\nDự đoán giá trị tại x = {next_x}: y = {next_y:.4f}\")\n",
        "\n",
        "    return A\n",
        "\n",
        "# Ví dụ sử dụng\n",
        "dulieu = [10.0, 8, 7, 5, 2]\n",
        "bpcuctieu(dulieu)\n"
      ],
      "metadata": {
        "colab": {
          "base_uri": "https://localhost:8080/"
        },
        "id": "GU5_hkrGgLPK",
        "outputId": "fc1fe1be-3780-409e-b223-e0d8a34fa658"
      },
      "execution_count": 12,
      "outputs": [
        {
          "output_type": "stream",
          "name": "stdout",
          "text": [
            "Ma trận X:\n",
            "[[1. 1. 1. 1. 1.]\n",
            " [1. 2. 3. 4. 5.]]\n",
            "\n",
            "Ma trận U = X * X.T:\n",
            "[[ 5. 15.]\n",
            " [15. 55.]]\n",
            "\n",
            "Nghịch đảo của U:\n",
            "[[ 1.1 -0.3]\n",
            " [-0.3  0.1]]\n",
            "\n",
            "Vector Y:\n",
            "[10.  8.  7.  5.  2.]\n",
            "\n",
            "Hệ số hồi quy A:\n",
            "[12.1 -1.9]\n",
            "\n",
            "Phương trình hồi quy:\n",
            "y = 12.1000 + -1.9000 * x\n",
            "\n",
            "Dự đoán giá trị tại x = 6: y = 0.7000\n"
          ]
        },
        {
          "output_type": "execute_result",
          "data": {
            "text/plain": [
              "array([12.1, -1.9])"
            ]
          },
          "metadata": {},
          "execution_count": 12
        }
      ]
    }
  ]
}