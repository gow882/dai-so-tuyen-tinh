{
  "nbformat": 4,
  "nbformat_minor": 0,
  "metadata": {
    "colab": {
      "provenance": []
    },
    "kernelspec": {
      "name": "python3",
      "display_name": "Python 3"
    },
    "language_info": {
      "name": "python"
    }
  },
  "cells": [
    {
      "cell_type": "code",
      "execution_count": 1,
      "metadata": {
        "colab": {
          "base_uri": "https://localhost:8080/"
        },
        "id": "rhpb243ylclT",
        "outputId": "e102689b-db93-4d03-c152-8825eabcb855"
      },
      "outputs": [
        {
          "output_type": "stream",
          "name": "stdout",
          "text": [
            "Câu a:\n",
            "A + B = [2 3 1 6]\n",
            "2A + 3B = [ 3 11  2 14]\n",
            "\n",
            "Câu b:\n",
            "Tích vô hướng A·B = -5\n",
            "Góc giữa hai vector (độ) = 99.594\n",
            "\n",
            "Câu c:\n",
            "C * C^T =\n",
            " [[14 -8 13]\n",
            " [-8 21 -2]\n",
            " [13 -2 29]]\n"
          ]
        }
      ],
      "source": [
        "import numpy as np\n",
        "from numpy.linalg import norm\n",
        "from math import acos, degrees\n",
        "\n",
        "# Dữ liệu\n",
        "A = np.array([3, -2, 1, 4])\n",
        "B = np.array([-1, 5, 0, 2])\n",
        "C = np.array([\n",
        "    [2, -1, 3],\n",
        "    [1, 4, -2],\n",
        "    [0, 2, 5]\n",
        "])\n",
        "\n",
        "# Câu a\n",
        "tong_AB = A + B\n",
        "tich_so = 2 * A + 3 * B\n",
        "\n",
        "print(\"Câu a:\")\n",
        "print(\"A + B =\", tong_AB)\n",
        "print(\"2A + 3B =\", tich_so)\n",
        "\n",
        "# Câu b\n",
        "tich_vo_huong = np.dot(A, B)\n",
        "cos_theta = tich_vo_huong / (norm(A) * norm(B))\n",
        "goc_do = degrees(acos(cos_theta))\n",
        "\n",
        "print(\"\\nCâu b:\")\n",
        "print(\"Tích vô hướng A·B =\", tich_vo_huong)\n",
        "print(\"Góc giữa hai vector (độ) =\", round(goc_do, 3))\n",
        "\n",
        "# Câu c\n",
        "C_CT = C @ C.T\n",
        "\n",
        "print(\"\\nCâu c:\")\n",
        "print(\"C * C^T =\\n\", C_CT)\n"
      ]
    },
    {
      "cell_type": "code",
      "source": [
        "import numpy as np\n",
        "\n",
        "# Khai báo ma trận\n",
        "M = np.array([\n",
        "    [2, -1, 3, 0],\n",
        "    [1, 4, -2, 5],\n",
        "    [0, 2, 6, -3],\n",
        "    [-1, 0, 1, 4]\n",
        "])\n",
        "\n",
        "N = np.array([\n",
        "    [1, 3, -2, 0],\n",
        "    [4, -1, 5, 2],\n",
        "    [0, 2, 3, -1],\n",
        "    [-3, 1, 0, 4]\n",
        "])\n",
        "\n",
        "# ===== a) Tích ma trận M x N =====\n",
        "MN = M @ N  # hoặc np.dot(M, N)\n",
        "\n",
        "print(\"=== Câu a ===\")\n",
        "print(\"Ma trận M × N:\")\n",
        "print(MN)\n",
        "\n",
        "# ===== b) Định thức của ma trận M =====\n",
        "det_M = np.linalg.det(M)\n",
        "\n",
        "print(\"\\n=== Câu b ===\")\n",
        "print(\"Định thức của ma trận M =\", round(det_M, 3))\n",
        "\n",
        "# Kiểm tra nếu gần bằng 0 thì không khả nghịch\n",
        "if np.isclose(det_M, 0):\n",
        "    print(\"→ Ma trận M không khả nghịch, định thức = 0.\")\n",
        "else:\n",
        "    print(\"→ Ma trận M khả nghịch.\")\n",
        "\n",
        "# ===== c) Hạng của ma trận N =====\n",
        "rank_N = np.linalg.matrix_rank(N)\n",
        "\n",
        "print(\"\\n=== Câu c ===\")\n",
        "print(\"Hạng của ma trận N =\", rank_N)\n"
      ],
      "metadata": {
        "colab": {
          "base_uri": "https://localhost:8080/"
        },
        "id": "xQPueELJmjPe",
        "outputId": "a1991896-2e60-41f9-caf5-0d4e1152698c"
      },
      "execution_count": 2,
      "outputs": [
        {
          "output_type": "stream",
          "name": "stdout",
          "text": [
            "=== Câu a ===\n",
            "Ma trận M × N:\n",
            "[[ -2  13   0  -5]\n",
            " [  2   0  12  30]\n",
            " [ 17   7  28 -14]\n",
            " [-13   3   5  15]]\n",
            "\n",
            "=== Câu b ===\n",
            "Định thức của ma trận M = 409.0\n",
            "→ Ma trận M khả nghịch.\n",
            "\n",
            "=== Câu c ===\n",
            "Hạng của ma trận N = 4\n"
          ]
        }
      ]
    },
    {
      "cell_type": "code",
      "source": [
        "import numpy as np\n",
        "\n",
        "# Ma trận hệ số\n",
        "P = np.array([\n",
        "    [3, -1, 0, 2],\n",
        "    [1, 4, -2, 0],\n",
        "    [0, 1, 5, -1],\n",
        "    [2, 0, 1, 3]\n",
        "])\n",
        "\n",
        "# Vector hằng số (vế phải)\n",
        "b = np.array([6, 8, 3, 7])\n",
        "\n",
        "# ===== a) Tìm ma trận nghịch đảo của P =====\n",
        "print(\"=== Câu a ===\")\n",
        "\n",
        "det_P = np.linalg.det(P)\n",
        "print(\"Định thức của P =\", round(det_P, 3))\n",
        "\n",
        "if np.isclose(det_P, 0):\n",
        "    print(\"→ Ma trận P không khả nghịch (định thức = 0).\")\n",
        "    P_inv = None\n",
        "else:\n",
        "    P_inv = np.linalg.inv(P)\n",
        "    print(\"Ma trận nghịch đảo P⁻¹:\")\n",
        "    print(np.round(P_inv, 3))\n",
        "\n",
        "# ===== b) Giải hệ phương trình bằng nghịch đảo =====\n",
        "print(\"\\n=== Câu b ===\")\n",
        "\n",
        "if P_inv is not None:\n",
        "    x = P_inv @ b\n",
        "    print(\"Nghiệm của hệ phương trình [x, y, z, w] là:\")\n",
        "    print(np.round(x, 3))\n",
        "else:\n",
        "    print(\"Không giải được hệ bằng phương pháp nghịch đảo vì P không khả nghịch.\")\n",
        "\n",
        "# ===== c) Kiểm tra nghiệm bằng cách thế lại: P @ x == b =====\n",
        "print(\"\\n=== Câu c ===\")\n",
        "\n",
        "if P_inv is not None:\n",
        "    check = P @ x\n",
        "    print(\"Tích P · x:\")\n",
        "    print(np.round(check, 3))\n",
        "    print(\"So sánh với vector b:\")\n",
        "    print(b)\n",
        "    if np.allclose(check, b):\n",
        "        print(\"✅ Nghiệm chính xác.\")\n",
        "    else:\n",
        "        print(\"❌ Nghiệm sai.\")\n"
      ],
      "metadata": {
        "colab": {
          "base_uri": "https://localhost:8080/"
        },
        "id": "BGSaSXjIm4DE",
        "outputId": "118e519f-b4cb-4a1f-fb02-c4b028d19e8a"
      },
      "execution_count": 3,
      "outputs": [
        {
          "output_type": "stream",
          "name": "stdout",
          "text": [
            "=== Câu a ===\n",
            "Định thức của P = 140.0\n",
            "Ma trận nghịch đảo P⁻¹:\n",
            "[[ 0.5    0.1    0.1   -0.3  ]\n",
            " [-0.143  0.2    0.057  0.114]\n",
            " [-0.036 -0.05   0.164  0.079]\n",
            " [-0.321 -0.05  -0.121  0.507]]\n",
            "\n",
            "=== Câu b ===\n",
            "Nghiệm của hệ phương trình [x, y, z, w] là:\n",
            "[2.    1.714 0.429 0.857]\n",
            "\n",
            "=== Câu c ===\n",
            "Tích P · x:\n",
            "[6. 8. 3. 7.]\n",
            "So sánh với vector b:\n",
            "[6 8 3 7]\n",
            "✅ Nghiệm chính xác.\n"
          ]
        }
      ]
    },
    {
      "cell_type": "code",
      "source": [
        "import numpy as np\n",
        "\n",
        "# Ma trận Q\n",
        "Q = np.array([\n",
        "    [5, -2, 1],\n",
        "    [0, 3, -1],\n",
        "    [2, 0, 4]\n",
        "])\n",
        "\n",
        "# Tính giá trị riêng và vector riêng\n",
        "eigenvalues, eigenvectors = np.linalg.eig(Q)\n",
        "\n",
        "print(\"=== Câu a ===\")\n",
        "print(\"Giá trị riêng (chỉ phần thực):\")\n",
        "for i, val in enumerate(eigenvalues):\n",
        "    print(f\"λ{i+1} =\", np.round(val.real, 3))  # chỉ lấy phần thực\n",
        "\n",
        "print(\"\\n=== Câu b ===\")\n",
        "print(\"Vector riêng tương ứng (chỉ phần thực):\")\n",
        "for i, vec in enumerate(eigenvectors.T):  # Transpose để duyệt từng vector riêng\n",
        "    vec_real = np.real(vec)  # loại bỏ phần ảo\n",
        "    print(f\"Vector riêng λ{i+1}: {np.round(vec_real, 3)}\")\n",
        "\n",
        "print(\"\\n=== Câu c ===\")\n",
        "print(\"Vector riêng sau khi chuẩn hóa (chỉ phần thực):\")\n",
        "for i, vec in enumerate(eigenvectors.T):\n",
        "    norm = np.linalg.norm(vec)  # chuẩn dài vector\n",
        "    vec_norm_real = np.real(vec / norm)  # chia rồi lấy phần thực\n",
        "    print(f\"Vector λ{i+1} (chuẩn hóa): {np.round(vec_norm_real, 3)}\")\n"
      ],
      "metadata": {
        "colab": {
          "base_uri": "https://localhost:8080/"
        },
        "id": "RpfMXsO3niB1",
        "outputId": "baa064ad-50c8-4f1d-c9ef-e500163b5f51"
      },
      "execution_count": 6,
      "outputs": [
        {
          "output_type": "stream",
          "name": "stdout",
          "text": [
            "=== Câu a ===\n",
            "Giá trị riêng (chỉ phần thực):\n",
            "λ1 = 6.355\n",
            "λ2 = 2.822\n",
            "λ3 = 2.822\n",
            "\n",
            "=== Câu b ===\n",
            "Vector riêng tương ứng (chỉ phần thực):\n",
            "Vector riêng λ1: [ 0.748 -0.189  0.636]\n",
            "Vector riêng λ2: [-0.374  0.095  0.636]\n",
            "Vector riêng λ3: [-0.374  0.095  0.636]\n",
            "\n",
            "=== Câu c ===\n",
            "Vector riêng sau khi chuẩn hóa (chỉ phần thực):\n",
            "Vector λ1 (chuẩn hóa): [ 0.748 -0.189  0.636]\n",
            "Vector λ2 (chuẩn hóa): [-0.374  0.095  0.636]\n",
            "Vector λ3 (chuẩn hóa): [-0.374  0.095  0.636]\n"
          ]
        }
      ]
    },
    {
      "cell_type": "code",
      "source": [
        "import numpy as np\n",
        "\n",
        "# Khai báo ma trận R và vector b\n",
        "R = np.array([\n",
        "    [4, -1, 2],\n",
        "    [1, 3, -2],\n",
        "    [0, 2, 5]\n",
        "])\n",
        "b = np.array([12, 5, 9])\n",
        "\n",
        "# ===== a) Giải hệ Rx = b bằng np.linalg.solve() =====\n",
        "print(\"=== Câu a ===\")\n",
        "x_direct = np.linalg.solve(R, b)\n",
        "print(\"Nghiệm x (giải trực tiếp):\", np.round(x_direct, 3))\n",
        "\n",
        "# ===== b) Kiểm tra khả nghịch và dùng nghịch đảo để giải lại =====\n",
        "print(\"\\n=== Câu b ===\")\n",
        "det_R = np.linalg.det(R)\n",
        "print(\"Định thức của R =\", round(det_R, 3))\n",
        "\n",
        "if np.isclose(det_R, 0):\n",
        "    print(\"→ Ma trận R không khả nghịch.\")\n",
        "else:\n",
        "    R_inv = np.linalg.inv(R)\n",
        "    print(\"Ma trận nghịch đảo R⁻¹:\")\n",
        "    print(np.round(R_inv, 3))\n",
        "\n",
        "    # Giải lại hệ: x = R⁻¹ · b\n",
        "    x_inverse = R_inv @ b\n",
        "    print(\"Nghiệm x (giải bằng nghịch đảo):\", np.round(x_inverse, 3))\n",
        "\n",
        "    # So sánh hai nghiệm\n",
        "    if np.allclose(x_direct, x_inverse):\n",
        "        print(\"✅ Hai nghiệm giống nhau.\")\n",
        "    else:\n",
        "        print(\"❌ Hai nghiệm khác nhau.\")\n",
        "\n",
        "# ===== c) Chuẩn Frobenius của R =====\n",
        "print(\"\\n=== Câu c ===\")\n",
        "fro_norm = np.linalg.norm(R, ord='fro')\n",
        "print(\"Chuẩn Frobenius của R =\", round(fro_norm, 3))\n"
      ],
      "metadata": {
        "colab": {
          "base_uri": "https://localhost:8080/"
        },
        "id": "pI9r9rvWopmz",
        "outputId": "90c5767d-6497-4fbe-bccb-783e5a3548b6"
      },
      "execution_count": 7,
      "outputs": [
        {
          "output_type": "stream",
          "name": "stdout",
          "text": [
            "=== Câu a ===\n",
            "Nghiệm x (giải trực tiếp): [2.788 1.529 1.188]\n",
            "\n",
            "=== Câu b ===\n",
            "Định thức của R = 85.0\n",
            "Ma trận nghịch đảo R⁻¹:\n",
            "[[ 0.224  0.106 -0.047]\n",
            " [-0.059  0.235  0.118]\n",
            " [ 0.024 -0.094  0.153]]\n",
            "Nghiệm x (giải bằng nghịch đảo): [2.788 1.529 1.188]\n",
            "✅ Hai nghiệm giống nhau.\n",
            "\n",
            "=== Câu c ===\n",
            "Chuẩn Frobenius của R = 8.0\n"
          ]
        }
      ]
    }
  ]
}