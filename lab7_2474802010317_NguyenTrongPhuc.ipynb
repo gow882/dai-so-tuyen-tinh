{
  "nbformat": 4,
  "nbformat_minor": 0,
  "metadata": {
    "colab": {
      "provenance": []
    },
    "kernelspec": {
      "name": "python3",
      "display_name": "Python 3"
    },
    "language_info": {
      "name": "python"
    }
  },
  "cells": [
    {
      "cell_type": "code",
      "execution_count": 1,
      "metadata": {
        "colab": {
          "base_uri": "https://localhost:8080/"
        },
        "id": "H7MZUrTYhVBH",
        "outputId": "a3b34d67-905d-4cf5-d851-bb74bd958a68"
      },
      "outputs": [
        {
          "output_type": "stream",
          "name": "stdout",
          "text": [
            "[ 1  5 30]\n"
          ]
        }
      ],
      "source": [
        "import numpy as np\n",
        "\n",
        "signals = np.array([[1, 2], [3, 4], [10, 0]])\n",
        "sample = np.array([3, -1])\n",
        "\n",
        "result = np.inner(signals, sample)\n",
        "print(result)\n"
      ]
    },
    {
      "cell_type": "code",
      "source": [
        "import numpy as np\n",
        "\n",
        "# Khởi tạo dữ liệu\n",
        "A = np.array([0, 0, -1, 2, 3, -1, 0, 1, -1, -1])\n",
        "search_vector = np.array([0, 1, -1])\n",
        "\n",
        "# Tạo ma trận B chứa các đoạn con liên tiếp có độ dài bằng search_vector\n",
        "B = np.array([1])  # dummy array để resize\n",
        "B = np.resize(B, (len(A) - len(search_vector) + 1, len(search_vector)))\n",
        "B = np.asmatrix(B)\n",
        "\n",
        "for i in range(len(A) - len(search_vector) + 1):      # số dòng\n",
        "    for j in range(len(search_vector)):               # số cột\n",
        "        B[i, j] = A[i + j]\n",
        "\n",
        "# Tính inner product giữa từng hàng của B với search_vector\n",
        "C = np.inner(B, search_vector)\n",
        "\n",
        "# Tìm và in vị trí trong A mà search_vector xuất hiện\n",
        "for i in range(len(A) - len(search_vector) + 1):\n",
        "    if C[0, i] == np.inner(search_vector, search_vector):\n",
        "        print(i, B[i])\n"
      ],
      "metadata": {
        "colab": {
          "base_uri": "https://localhost:8080/"
        },
        "id": "KXsi1EpAk819",
        "outputId": "4d9ad31b-e941-4c02-c20a-2c3431a06e27"
      },
      "execution_count": 2,
      "outputs": [
        {
          "output_type": "stream",
          "name": "stdout",
          "text": [
            "6 [[ 0  1 -1]]\n"
          ]
        }
      ]
    },
    {
      "cell_type": "code",
      "source": [
        "import os\n",
        "import gdown\n",
        "from PIL import Image, ImageDraw\n",
        "\n",
        "# Link Google Drive tải thẳng\n",
        "url = 'https://drive.google.com/uc?export=download&id=1OhZkJ9kS_Ehln4Rv8grPsKyKge4FkFbG'\n",
        "\n",
        "# Đường dẫn lưu ảnh (Colab nên lưu trong /content)\n",
        "img_path = '/content/Capture.PNG'\n",
        "\n",
        "if not os.path.exists(img_path):\n",
        "    print(\"⏳ Đang tải ảnh từ Google Drive...\")\n",
        "    gdown.download(url, img_path, quiet=False)\n",
        "else:\n",
        "    print(\"Ảnh đã tồn tại:\", img_path)\n",
        "\n",
        "img = Image.open(img_path)\n",
        "print(\"✅ Đã mở ảnh:\", img_path)\n",
        "print(\"Chiều rộng:\", img.width)\n",
        "print(\"Chiều cao:\", img.height)\n",
        "print(\"Kiểu ảnh:\", img.mode)\n",
        "\n",
        "if img.mode != 'RGB':\n",
        "    img = img.convert('RGB')\n",
        "\n",
        "new_width = img.width // 2\n",
        "new_height = img.height // 2\n",
        "\n",
        "# Thay Image.ANTIALIAS bằng Image.Resampling.LANCZOS\n",
        "resized_img = img.resize((new_width, new_height), Image.Resampling.LANCZOS)\n",
        "\n",
        "resized_img_path = '/content/Capture_small.PNG'\n",
        "resized_img.save(resized_img_path)\n",
        "print(\"✅ Đã lưu ảnh nhỏ tại:\", resized_img_path)\n"
      ],
      "metadata": {
        "colab": {
          "base_uri": "https://localhost:8080/"
        },
        "id": "H5zF3wHmlCWA",
        "outputId": "0d1366e9-4256-4ffc-f8da-245b6191e944"
      },
      "execution_count": 22,
      "outputs": [
        {
          "output_type": "stream",
          "name": "stdout",
          "text": [
            "⏳ Đang tải ảnh từ Google Drive...\n"
          ]
        },
        {
          "output_type": "stream",
          "name": "stderr",
          "text": [
            "Downloading...\n",
            "From: https://drive.google.com/uc?export=download&id=1OhZkJ9kS_Ehln4Rv8grPsKyKge4FkFbG\n",
            "To: /content/Capture.PNG\n",
            "100%|██████████| 95.9k/95.9k [00:00<00:00, 64.8MB/s]"
          ]
        },
        {
          "output_type": "stream",
          "name": "stdout",
          "text": [
            "✅ Đã mở ảnh: /content/Capture.PNG\n",
            "Chiều rộng: 493\n",
            "Chiều cao: 389\n",
            "Kiểu ảnh: RGBA\n",
            "✅ Đã lưu ảnh nhỏ tại: /content/Capture_small.PNG\n"
          ]
        },
        {
          "output_type": "stream",
          "name": "stderr",
          "text": [
            "\n"
          ]
        }
      ]
    },
    {
      "cell_type": "code",
      "source": [],
      "metadata": {
        "id": "M-KYjiQar10M"
      },
      "execution_count": null,
      "outputs": []
    },
    {
      "cell_type": "code",
      "source": [
        "import numpy as np\n",
        "\n",
        "# Khởi tạo ma trận A\n",
        "A = np.array([\n",
        "    [0,     0,     1.0/2, 1.0/2],\n",
        "    [1.0/3, 0,     0,     0],\n",
        "    [1.0/3, 0,     0,     1.0/2],\n",
        "    [1.0/3, 1.0,   1.0/2, 0]\n",
        "])\n",
        "\n",
        "# Khởi tạo vector x\n",
        "x = np.array([1, 1, 1, 1])\n",
        "\n",
        "# Lặp nhân A với x 10 lần và in kết quả\n",
        "for i in range(10):\n",
        "    x = np.dot(A, x)\n",
        "    print(f\"Lần lặp thứ {i+1}: {x}\")\n"
      ],
      "metadata": {
        "colab": {
          "base_uri": "https://localhost:8080/"
        },
        "id": "VZxc5DJPoHOn",
        "outputId": "943d04b4-a49b-44f2-d5ce-0cfe83e77488"
      },
      "execution_count": 7,
      "outputs": [
        {
          "output_type": "stream",
          "name": "stdout",
          "text": [
            "Lần lặp thứ 1: [1.         0.33333333 0.83333333 1.83333333]\n",
            "Lần lặp thứ 2: [1.33333333 0.33333333 1.25       1.08333333]\n",
            "Lần lặp thứ 3: [1.16666667 0.44444444 0.98611111 1.40277778]\n",
            "Lần lặp thứ 4: [1.19444444 0.38888889 1.09027778 1.32638889]\n",
            "Lần lặp thứ 5: [1.20833333 0.39814815 1.06134259 1.33217593]\n",
            "Lần lặp thứ 6: [1.19675926 0.40277778 1.06886574 1.33159722]\n",
            "Lần lặp thứ 7: [1.20023148 0.39891975 1.06471836 1.3361304 ]\n",
            "Lần lặp thứ 8: [1.20042438 0.40007716 1.06814236 1.3313561 ]\n",
            "Lần lặp thứ 9: [1.19974923 0.40014146 1.06581951 1.3342898 ]\n",
            "Lần lặp thứ 10: [1.20005466 0.39991641 1.06706131 1.33296762]\n"
          ]
        }
      ]
    },
    {
      "cell_type": "code",
      "source": [
        "import numpy as np\n",
        "\n",
        "# Định nghĩa ma trận A\n",
        "A = np.array([\n",
        "    [0,     0,     1.0/2, 1.0/2],\n",
        "    [1.0/3, 0,     0,     0],\n",
        "    [1.0/3, 0,     0,     1.0/2],\n",
        "    [1.0/3, 1.0,   1.0/2, 0]\n",
        "])\n",
        "\n",
        "# Vector khởi tạo x\n",
        "x = np.array([1, 1, 1, 1])\n",
        "\n",
        "# Tính tích ma trận A với vector x\n",
        "x = np.dot(A, x)\n",
        "\n",
        "# In ra kết quả\n",
        "print(\"Kết quả x = A * x là:\")\n",
        "print(x)\n"
      ],
      "metadata": {
        "colab": {
          "base_uri": "https://localhost:8080/"
        },
        "id": "Noumr4E0oiql",
        "outputId": "ba5ea790-508d-439b-9add-b1919ad49103"
      },
      "execution_count": 8,
      "outputs": [
        {
          "output_type": "stream",
          "name": "stdout",
          "text": [
            "Kết quả x = A * x là:\n",
            "[1.         0.33333333 0.83333333 1.83333333]\n"
          ]
        }
      ]
    },
    {
      "cell_type": "code",
      "source": [
        "import numpy as np\n",
        "\n",
        "# Khởi tạo vector x ban đầu\n",
        "x = np.array([1.0, 1.0, 1.0, 1.0])\n",
        "\n",
        "# Ma trận A được định nghĩa như bạn mô tả\n",
        "A = np.array([\n",
        "    [0,     0,     1.0/2, 1.0/4],\n",
        "    [1.0/3, 0,     0,     1.0/4],\n",
        "    [1.0/3, 0,     0,     1.0/4],\n",
        "    [1.0/3, 1.0,   1.0/2, 1.0/4]\n",
        "])\n",
        "\n",
        "# Lặp nhân A với x trong 7 bước\n",
        "for i in range(7):\n",
        "    x = np.dot(A, x)\n",
        "    print(f\"Lần lặp thứ {i+1}: {x}\")\n"
      ],
      "metadata": {
        "colab": {
          "base_uri": "https://localhost:8080/"
        },
        "id": "tMyFj3Bqo9G9",
        "outputId": "729b3422-0d3f-4782-c67e-8e588c5f236e"
      },
      "execution_count": 9,
      "outputs": [
        {
          "output_type": "stream",
          "name": "stdout",
          "text": [
            "Lần lặp thứ 1: [0.75       0.58333333 0.58333333 2.08333333]\n",
            "Lần lặp thứ 2: [0.8125     0.77083333 0.77083333 1.64583333]\n",
            "Lần lặp thứ 3: [0.796875   0.68229167 0.68229167 1.83854167]\n",
            "Lần lặp thứ 4: [0.80078125 0.72526042 0.72526042 1.74869792]\n",
            "Lần lặp thứ 5: [0.79980469 0.70410156 0.70410156 1.79199219]\n",
            "Lần lặp thứ 6: [0.80004883 0.71459961 0.71459961 1.77075195]\n",
            "Lần lặp thứ 7: [0.79998779 0.70937093 0.70937093 1.78127035]\n"
          ]
        }
      ]
    },
    {
      "cell_type": "code",
      "source": [
        "import os\n",
        "import gdown\n",
        "from PIL import Image, ImageDraw\n",
        "\n",
        "# Link Google Drive (đã chuyển thành link tải thẳng)\n",
        "url = 'https://drive.google.com/uc?id=1OhZkJ9kS_Ehln4Rv8grPsKyKge4FkFbG'\n",
        "\n",
        "# Đường dẫn lưu ảnh tải về\n",
        "img_path = r'D:\\Capture.PNG'\n",
        "\n",
        "# Tải ảnh nếu chưa tồn tại\n",
        "if not os.path.exists(img_path):\n",
        "    print(\"⏳ Đang tải ảnh từ Google Drive...\")\n",
        "    gdown.download(url, img_path, quiet=False)\n",
        "else:\n",
        "    print(\"Ảnh đã tồn tại:\", img_path)\n",
        "\n",
        "# Mở ảnh\n",
        "img = Image.open(img_path)\n",
        "print(\"✅ Đã mở ảnh:\", img_path)\n",
        "print(\"Chiều rộng:\", img.width)\n",
        "print(\"Chiều cao:\", img.height)\n",
        "print(\"Kiểu ảnh:\", img.mode)\n",
        "\n",
        "# Chuyển sang RGB nếu ảnh có alpha (RGBA)\n",
        "if img.mode != 'RGB':\n",
        "    img = img.convert('RGB')\n",
        "\n",
        "# Resize ảnh xuống 1/2\n",
        "new_width = img.width // 2\n",
        "new_height = img.height // 2\n",
        "resized_img = img.resize((new_width, new_height), Image.Resampling.LANCZOS)\n",
        "resized_img_path = r'D:\\Capture_small.PNG'\n",
        "resized_img.save(resized_img_path)\n",
        "print(\"✅ Đã lưu ảnh nhỏ tại:\", resized_img_path)\n",
        "\n",
        "# Khởi tạo kernel Gaussian 3x3\n",
        "gaussian_kernel = [\n",
        "    [1/16, 2/16, 1/16],\n",
        "    [2/16, 4/16, 2/16],\n",
        "    [1/16, 2/16, 1/16]\n",
        "]\n",
        "offset = 1  # kernel 3x3\n",
        "\n",
        "input_pixels = img.load()\n",
        "width, height = img.size\n",
        "\n",
        "output_image = Image.new(\"RGB\", (width, height))\n",
        "draw = ImageDraw.Draw(output_image)\n",
        "\n",
        "# Áp dụng lọc Gaussian\n",
        "for x in range(offset, width - offset):\n",
        "    for y in range(offset, height - offset):\n",
        "        r_acc, g_acc, b_acc = 0, 0, 0\n",
        "        for i in range(3):\n",
        "            for j in range(3):\n",
        "                xn = x + i - offset\n",
        "                yn = y + j - offset\n",
        "                r, g, b = input_pixels[xn, yn]\n",
        "                weight = gaussian_kernel[i][j]\n",
        "                r_acc += r * weight\n",
        "                g_acc += g * weight\n",
        "                b_acc += b * weight\n",
        "        draw.point((x, y), (int(r_acc), int(g_acc), int(b_acc)))\n",
        "\n",
        "blurred_img_path = r'D:\\Capture_blur_gaussian.PNG'\n",
        "output_image.save(blurred_img_path)\n",
        "print(\"✅ Đã lưu ảnh làm mờ Gaussian tại:\", blurred_img_path)\n",
        "\n",
        "# In ra 10 pixel đầu tiên của ảnh làm mờ Gaussian (để kiểm tra)\n",
        "blurred_pixels = output_image.load()\n",
        "print(\"10 pixel đầu tiên ảnh làm mờ Gaussian:\")\n",
        "for i in range(10):\n",
        "    print(blurred_pixels[i, offset])  # in pixel tại y = offset\n"
      ],
      "metadata": {
        "colab": {
          "base_uri": "https://localhost:8080/"
        },
        "id": "WYhd06oRo-Yt",
        "outputId": "38ee165b-399b-4604-c5ee-8830022cc0ab"
      },
      "execution_count": 20,
      "outputs": [
        {
          "output_type": "stream",
          "name": "stdout",
          "text": [
            "Ảnh đã tồn tại: D:\\Capture.PNG\n",
            "✅ Đã mở ảnh: D:\\Capture.PNG\n",
            "Chiều rộng: 493\n",
            "Chiều cao: 389\n",
            "Kiểu ảnh: RGBA\n",
            "✅ Đã lưu ảnh nhỏ tại: D:\\Capture_small.PNG\n",
            "✅ Đã lưu ảnh làm mờ Gaussian tại: D:\\Capture_blur_gaussian.PNG\n",
            "10 pixel đầu tiên ảnh làm mờ Gaussian:\n",
            "(0, 0, 0)\n",
            "(254, 255, 255)\n",
            "(254, 255, 255)\n",
            "(254, 255, 255)\n",
            "(254, 255, 255)\n",
            "(254, 255, 255)\n",
            "(254, 255, 255)\n",
            "(254, 255, 255)\n",
            "(254, 255, 255)\n",
            "(254, 255, 255)\n"
          ]
        }
      ]
    },
    {
      "cell_type": "code",
      "source": [
        "import os\n",
        "import gdown\n",
        "from PIL import Image, ImageDraw\n",
        "\n",
        "# Link tải thẳng ảnh từ Google Drive\n",
        "url = 'https://drive.google.com/uc?id=1OhZkJ9kS_Ehln4Rv8grPsKyKge4FkFbG'\n",
        "\n",
        "# Đường dẫn lưu ảnh tải về\n",
        "img_path = r'D:\\Capture.PNG'\n",
        "\n",
        "# Tải ảnh nếu chưa tồn tại\n",
        "if not os.path.exists(img_path):\n",
        "    print(\"⏳ Đang tải ảnh từ Google Drive...\")\n",
        "    gdown.download(url, img_path, quiet=False)\n",
        "else:\n",
        "    print(\"Ảnh đã tồn tại:\", img_path)\n",
        "\n",
        "# Mở ảnh\n",
        "img = Image.open(img_path)\n",
        "print(\"✅ Đã mở ảnh:\", img_path)\n",
        "print(\"Chiều rộng:\", img.width)\n",
        "print(\"Chiều cao:\", img.height)\n",
        "print(\"Kiểu ảnh:\", img.mode)\n",
        "\n",
        "# Chuyển sang RGB nếu cần\n",
        "if img.mode != 'RGB':\n",
        "    img = img.convert('RGB')\n",
        "\n",
        "# Resize ảnh xuống 1/2\n",
        "new_width = img.width // 2\n",
        "new_height = img.height // 2\n",
        "# Sửa dòng này dùng Image.Resampling.LANCZOS thay cho Image.ANTIALIAS\n",
        "resized_img = img.resize((new_width, new_height), Image.Resampling.LANCZOS)\n",
        "resized_img_path = r'D:\\Capture_small.PNG'\n",
        "resized_img.save(resized_img_path)\n",
        "print(\"✅ Đã lưu ảnh nhỏ tại:\", resized_img_path)\n",
        "\n",
        "# Tiếp tục các bước xử lý khác...\n"
      ],
      "metadata": {
        "colab": {
          "base_uri": "https://localhost:8080/"
        },
        "id": "agejW5ARs2oy",
        "outputId": "e0f6bee0-7d8d-4df6-aa3a-2b4c497687a8"
      },
      "execution_count": 18,
      "outputs": [
        {
          "output_type": "stream",
          "name": "stdout",
          "text": [
            "Ảnh đã tồn tại: D:\\Capture.PNG\n",
            "✅ Đã mở ảnh: D:\\Capture.PNG\n",
            "Chiều rộng: 493\n",
            "Chiều cao: 389\n",
            "Kiểu ảnh: RGBA\n",
            "✅ Đã lưu ảnh nhỏ tại: D:\\Capture_small.PNG\n"
          ]
        }
      ]
    }
  ]
}