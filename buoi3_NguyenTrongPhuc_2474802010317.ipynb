{
  "nbformat": 4,
  "nbformat_minor": 0,
  "metadata": {
    "colab": {
      "provenance": []
    },
    "kernelspec": {
      "name": "python3",
      "display_name": "Python 3"
    },
    "language_info": {
      "name": "python"
    }
  },
  "cells": [
    {
      "cell_type": "code",
      "execution_count": 2,
      "metadata": {
        "colab": {
          "base_uri": "https://localhost:8080/"
        },
        "id": "7UfPEp8Wh31g",
        "outputId": "70bbfc84-0fcb-4a85-904f-d49cf51b8d51"
      },
      "outputs": [
        {
          "output_type": "stream",
          "name": "stdout",
          "text": [
            "[[0 1]\n",
            " [1 0]]\n",
            "[[1 0]\n",
            " [0 1]]\n"
          ]
        }
      ],
      "source": [
        "import numpy as np\n",
        "\n",
        "# Tính ma trận A:\n",
        "A = np.array([[0, 1], [1, 0]])\n",
        "print(A)\n",
        "temp = A.dot(A) # tính toan lần thứ 1\n",
        "print(temp)"
      ]
    },
    {
      "cell_type": "code",
      "source": [
        "k= 6\n",
        "for i in range(k-1):\n",
        "  temp = temp.dot(A)\n",
        "print (temp)\n",
        "print('---')"
      ],
      "metadata": {
        "colab": {
          "base_uri": "https://localhost:8080/"
        },
        "id": "9py1OIMliXua",
        "outputId": "67e8f5f4-1139-4b1f-e220-d436b7e6ea89"
      },
      "execution_count": 3,
      "outputs": [
        {
          "output_type": "stream",
          "name": "stdout",
          "text": [
            "[[0 1]\n",
            " [1 0]]\n",
            "---\n"
          ]
        }
      ]
    },
    {
      "cell_type": "code",
      "source": [
        "import numpy as np\n",
        "B = np.array([ [0,-1], [-1,0]])\n",
        "print(B)\n",
        "emp = B.dot(B) # tính toan lần thứ 1\n",
        "print(temp)\n",
        "\n",
        "k= 5\n",
        "for i in range(k-1):\n",
        "  temp = temp.dot(B)\n",
        "print (temp)\n",
        "print('---')"
      ],
      "metadata": {
        "colab": {
          "base_uri": "https://localhost:8080/"
        },
        "id": "L7BJs2gtigxX",
        "outputId": "d717c486-fce2-422e-9536-6197e7ea3bc0"
      },
      "execution_count": 5,
      "outputs": [
        {
          "output_type": "stream",
          "name": "stdout",
          "text": [
            "[[ 0 -1]\n",
            " [-1  0]]\n",
            "[[0 1]\n",
            " [1 0]]\n",
            "[[0 1]\n",
            " [1 0]]\n",
            "---\n"
          ]
        }
      ]
    },
    {
      "cell_type": "code",
      "source": [
        "import numpy as np\n",
        "\n",
        "# Khởi tạo ma trận C\n",
        "C = np.array([\n",
        "    [1, 0,   0],\n",
        "    [0, 0.5, 1],\n",
        "    [0, 0,   0.5]\n",
        "])\n",
        "print(\"Ma trận C:\")\n",
        "print(C)\n",
        "\n",
        "# Lần nhân đầu tiên\n",
        "temp = C.dot(C)\n",
        "print(\"\\nSau khi nhân lần 1 (C^2):\")\n",
        "print(temp)\n",
        "\n",
        "# Nhân liên tiếp 1000 lần\n",
        "k = 1000\n",
        "for i in range(k - 1):\n",
        "    temp = temp.dot(C)\n",
        "\n",
        "print(\"\\nSau khi nhân 1000 lần (gần W = C^1000):\")\n",
        "print(temp)\n",
        "\n",
        "# Nhân tiếp 1000 lần nữa\n",
        "for i in range(k - 1):\n",
        "    temp = temp.dot(C)\n",
        "\n",
        "print(\"\\nSau khi nhân thêm 1000 lần nữa (gần C^2000):\")\n",
        "print(temp)\n"
      ],
      "metadata": {
        "colab": {
          "base_uri": "https://localhost:8080/"
        },
        "id": "Hu_13M-TjALl",
        "outputId": "03750923-e0e6-4e75-bfeb-3fa18910b45e"
      },
      "execution_count": 6,
      "outputs": [
        {
          "output_type": "stream",
          "name": "stdout",
          "text": [
            "Ma trận C:\n",
            "[[1.  0.  0. ]\n",
            " [0.  0.5 1. ]\n",
            " [0.  0.  0.5]]\n",
            "\n",
            "Sau khi nhân lần 1 (C^2):\n",
            "[[1.   0.   0.  ]\n",
            " [0.   0.25 1.  ]\n",
            " [0.   0.   0.25]]\n",
            "\n",
            "Sau khi nhân 1000 lần (gần W = C^1000):\n",
            "[[1.00000000e+000 0.00000000e+000 0.00000000e+000]\n",
            " [0.00000000e+000 4.66631809e-302 9.34196882e-299]\n",
            " [0.00000000e+000 0.00000000e+000 4.66631809e-302]]\n",
            "\n",
            "Sau khi nhân thêm 1000 lần nữa (gần C^2000):\n",
            "[[1. 0. 0.]\n",
            " [0. 0. 0.]\n",
            " [0. 0. 0.]]\n"
          ]
        }
      ]
    },
    {
      "cell_type": "code",
      "source": [
        "import numpy as np\n",
        "\n",
        "# Ma trận M ban đầu\n",
        "M = np.array([[0.8, 0.3],\n",
        "              [0.2, 0.7]])\n",
        "\n",
        "# M^2\n",
        "MM = M.dot(M)\n",
        "print(\"M^2:\")\n",
        "print(MM)\n",
        "\n",
        "# M^3\n",
        "MM = MM.dot(M)\n",
        "print(\"\\nM^3:\")\n",
        "print(MM)\n",
        "\n",
        "# M^100\n",
        "for i in range(100):\n",
        "    MM = MM.dot(M)\n",
        "print(\"\\nM^103:\")\n",
        "print(MM)\n"
      ],
      "metadata": {
        "colab": {
          "base_uri": "https://localhost:8080/"
        },
        "id": "cyFjqkC-jUHk",
        "outputId": "b874a93e-42ec-4922-9855-b493c8ea26d5"
      },
      "execution_count": 7,
      "outputs": [
        {
          "output_type": "stream",
          "name": "stdout",
          "text": [
            "M^2:\n",
            "[[0.7  0.45]\n",
            " [0.3  0.55]]\n",
            "\n",
            "M^3:\n",
            "[[0.65  0.525]\n",
            " [0.35  0.475]]\n",
            "\n",
            "M^103:\n",
            "[[0.6 0.6]\n",
            " [0.4 0.4]]\n"
          ]
        }
      ]
    },
    {
      "cell_type": "code",
      "source": [
        "import numpy as np\n",
        "\n",
        "# Khởi tạo ma trận kề A\n",
        "A = np.array([\n",
        "    [0, 1, 0, 1],\n",
        "    [0, 0, 1, 0],\n",
        "    [1, 0, 0, 1],\n",
        "    [1, 1, 0, 0]\n",
        "])\n",
        "\n",
        "\n",
        "sumA = A.copy()\n",
        "\n",
        "\n",
        "temp = A.dot(A)\n",
        "sumA = sumA + temp\n",
        "\n",
        "k = 3\n",
        "for i in range(1, k - 1):\n",
        "    temp = temp.dot(A)\n",
        "    sumA = sumA + temp\n",
        "\n",
        "print(\"A^k (tức A^3):\")\n",
        "print(temp)\n",
        "\n",
        "print(\"\\nTổng các A^i từ i=1 đến i=k (k=3):\")\n",
        "print(sumA)\n"
      ],
      "metadata": {
        "colab": {
          "base_uri": "https://localhost:8080/"
        },
        "id": "NcQLuplbjlbR",
        "outputId": "5d74ec75-a74a-4096-b119-82137ca2dd4e"
      },
      "execution_count": 8,
      "outputs": [
        {
          "output_type": "stream",
          "name": "stdout",
          "text": [
            "A^k (tức A^3):\n",
            "[[1 1 1 2]\n",
            " [1 2 0 1]\n",
            " [1 2 2 1]\n",
            " [2 1 1 1]]\n",
            "\n",
            "Tổng các A^i từ i=1 đến i=k (k=3):\n",
            "[[2 3 2 3]\n",
            " [2 2 1 2]\n",
            " [3 4 2 3]\n",
            " [3 3 2 2]]\n"
          ]
        }
      ]
    },
    {
      "cell_type": "code",
      "source": [
        "import numpy as np\n",
        "\n",
        "# a. Chọn một ma trận khả nghịch 3x3\n",
        "A = np.array([[2, 1, 1],\n",
        "              [1, 3, 2],\n",
        "              [1, 0, 0]])\n",
        "\n",
        "# Kiểm tra ma trận có khả nghịch không (determinant khác 0)\n",
        "det = np.linalg.det(A)\n",
        "print(\"Định thức của A =\", det)\n",
        "if det == 0:\n",
        "    print(\"Ma trận không khả nghịch!\")\n",
        "else:\n",
        "    print(\"Ma trận khả nghịch.\")\n",
        "\n",
        "# b. Nhập họ tên hoặc MSSV\n",
        "text = input(\"Nhập họ tên hoặc MSSV: \")\n",
        "\n",
        "# c. Mã hóa: chuyển text thành số theo mã ASCII\n",
        "# Ghép các số thành vector có bội số của 3\n",
        "ascii_codes = [ord(ch) for ch in text]\n",
        "while len(ascii_codes) % 3 != 0:\n",
        "    ascii_codes.append(0)  # thêm số 0 để đủ chia hết cho 3\n",
        "\n",
        "# Chuyển thành ma trận 3 hàng\n",
        "matrix_input = np.array(ascii_codes).reshape(3, -1)\n",
        "print(\"Dữ liệu số dạng ma trận:\")\n",
        "print(matrix_input)\n",
        "\n",
        "# Mã hóa: nhân ma trận A\n",
        "encoded = A.dot(matrix_input)\n",
        "print(\"Dữ liệu sau khi mã hóa:\")\n",
        "print(encoded)\n",
        "\n",
        "# d. Giải mã: nhân với ma trận nghịch đảo\n",
        "A_inv = np.linalg.inv(A)\n",
        "decoded_matrix = A_inv.dot(encoded)\n",
        "\n",
        "# Làm tròn và chuyển về ký tự\n",
        "decoded_flat = np.round(decoded_matrix).astype(int).flatten()\n",
        "decoded_text = ''.join(chr(num) for num in decoded_flat if num > 0)\n",
        "\n",
        "print(\"Dữ liệu sau khi giải mã:\")\n",
        "print(decoded_text)\n"
      ],
      "metadata": {
        "colab": {
          "base_uri": "https://localhost:8080/"
        },
        "id": "YZ9aw3HOkE8c",
        "outputId": "d53b7ea0-812b-4228-d6e5-dcb4802e64ee"
      },
      "execution_count": 9,
      "outputs": [
        {
          "output_type": "stream",
          "name": "stdout",
          "text": [
            "Định thức của A = -1.0\n",
            "Ma trận khả nghịch.\n",
            "Nhập họ tên hoặc MSSV: 24432\n",
            "Dữ liệu số dạng ma trận:\n",
            "[[50 52]\n",
            " [52 51]\n",
            " [50  0]]\n",
            "Dữ liệu sau khi mã hóa:\n",
            "[[202 155]\n",
            " [306 205]\n",
            " [ 50  52]]\n",
            "Dữ liệu sau khi giải mã:\n",
            "24432\n"
          ]
        }
      ]
    },
    {
      "cell_type": "code",
      "source": [
        "import numpy as np\n",
        "\n",
        "def continued_fraction_to_fraction(seq):\n",
        "    # Khởi tạo ma trận kết quả là ma trận đơn vị\n",
        "    M = np.identity(2, dtype=object)\n",
        "\n",
        "    # Duyệt chuỗi a0, a1, ..., an từ phải sang trái\n",
        "    for a in reversed(seq):\n",
        "        T = np.array([[a, 1], [1, 0]], dtype=object)\n",
        "        M = np.dot(T, M)\n",
        "\n",
        "    p_n = M[0][0]\n",
        "    q_n = M[1][0]\n",
        "    return p_n, q_n\n",
        "\n",
        "# Thử nghiệm với ví dụ: 8/3 = [2, 1, 2]\n",
        "seq = [2, 1, 2]\n",
        "p, q = continued_fraction_to_fraction(seq)\n",
        "print(f\"Dãy liên phân số {seq} = {p}/{q}\")\n"
      ],
      "metadata": {
        "colab": {
          "base_uri": "https://localhost:8080/"
        },
        "id": "9m12bTXckg10",
        "outputId": "970e2963-b98c-467a-ee12-53cd1017e31e"
      },
      "execution_count": 10,
      "outputs": [
        {
          "output_type": "stream",
          "name": "stdout",
          "text": [
            "Dãy liên phân số [2, 1, 2] = 8/3\n"
          ]
        }
      ]
    }
  ]
}