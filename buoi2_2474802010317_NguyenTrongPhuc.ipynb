{
  "nbformat": 4,
  "nbformat_minor": 0,
  "metadata": {
    "colab": {
      "provenance": []
    },
    "kernelspec": {
      "name": "python3",
      "display_name": "Python 3"
    },
    "language_info": {
      "name": "python"
    }
  },
  "cells": [
    {
      "cell_type": "code",
      "execution_count": 2,
      "metadata": {
        "colab": {
          "base_uri": "https://localhost:8080/"
        },
        "id": "X3WdcECOoLeY",
        "outputId": "44875fab-6bbf-4ee4-afb5-705357793176"
      },
      "outputs": [
        {
          "output_type": "execute_result",
          "data": {
            "text/plain": [
              "[30, 50, 70]"
            ]
          },
          "metadata": {},
          "execution_count": 2
        }
      ],
      "source": [
        "def scale(a, v):\n",
        "  return [a*vi for vi in v]\n",
        "v = [3,5,7]\n",
        "scale(10, v)"
      ]
    },
    {
      "cell_type": "code",
      "source": [
        "def sumvector(v, w):\n",
        "  return [vi+wi for (vi, wi) in zip(v, w)]\n",
        "v = [3,5,7]\n",
        "w = [2,4,6]\n",
        "sumvector(v, w)"
      ],
      "metadata": {
        "colab": {
          "base_uri": "https://localhost:8080/"
        },
        "id": "5wZwV6oDoZF7",
        "outputId": "6d20bdb9-b4fb-4509-c928-6239b651a095"
      },
      "execution_count": 3,
      "outputs": [
        {
          "output_type": "execute_result",
          "data": {
            "text/plain": [
              "[5, 9, 13]"
            ]
          },
          "metadata": {},
          "execution_count": 3
        }
      ]
    },
    {
      "cell_type": "code",
      "source": [
        "def dotvector(v, w):\n",
        "\n",
        "  return sum([vi*wi for (vi, wi) in zip(v, w)])\n",
        "dotvector(v, w)"
      ],
      "metadata": {
        "colab": {
          "base_uri": "https://localhost:8080/"
        },
        "id": "LeO1Ga1coxKU",
        "outputId": "1597fcd8-13ad-41a6-9638-2dc089a1a3ec"
      },
      "execution_count": 4,
      "outputs": [
        {
          "output_type": "execute_result",
          "data": {
            "text/plain": [
              "68"
            ]
          },
          "metadata": {},
          "execution_count": 4
        }
      ]
    },
    {
      "cell_type": "code",
      "source": [
        "def lenvector(v):\n",
        "  return dotvector(v,v)\n",
        "lenvector(w)"
      ],
      "metadata": {
        "colab": {
          "base_uri": "https://localhost:8080/"
        },
        "id": "suo1j6Cho9Rh",
        "outputId": "33c00c83-2bcc-47b0-fcd4-fbbb8b235075"
      },
      "execution_count": 5,
      "outputs": [
        {
          "output_type": "execute_result",
          "data": {
            "text/plain": [
              "56"
            ]
          },
          "metadata": {},
          "execution_count": 5
        }
      ]
    },
    {
      "cell_type": "code",
      "source": [
        "from sympy import symbols, Eq, solve\n",
        "\n",
        "# Khai báo ẩn\n",
        "x, y = symbols('x y')  # x = \u0013, y = !\n",
        "\n",
        "# Tạo phương trình (không cho SymPy đánh giá ngay)\n",
        "eq1 = Eq(x + 2, 6)\n",
        "eq2 = Eq(-1, 6, evaluate=False)  # Giữ nguyên dưới dạng phương trình\n",
        "eq3 = Eq(x + y, 1)\n",
        "eq4 = Eq(2 * x, 8)\n",
        "eq5 = Eq(y + 4, 5)\n",
        "eq6 = Eq(-y, 8)\n",
        "\n",
        "# In hệ phương trình\n",
        "print(\"Hệ phương trình:\")\n",
        "for i, eq in enumerate([eq1, eq2, eq3, eq4, eq5, eq6], 1):\n",
        "    print(f\"Phương trình {i}: {eq}\")\n",
        "\n",
        "# Kiểm tra tính khả thi\n",
        "if eq2.lhs != eq2.rhs:\n",
        "    print(\"\\nHệ phương trình vô nghiệm do phương trình 2: -1 = 6 là sai.\")\n",
        "else:\n",
        "    solution = solve((eq1, eq3, eq4, eq5, eq6), (x, y))\n",
        "    print(\"\\nNghiệm của hệ là:\")\n",
        "    print(solution)\n"
      ],
      "metadata": {
        "colab": {
          "base_uri": "https://localhost:8080/"
        },
        "id": "dszhswG1pstZ",
        "outputId": "22e233b7-3da1-4022-f19c-38eb75ed6949"
      },
      "execution_count": 8,
      "outputs": [
        {
          "output_type": "stream",
          "name": "stdout",
          "text": [
            "Hệ phương trình:\n",
            "Phương trình 1: Eq(x + 2, 6)\n",
            "Phương trình 2: Eq(-1, 6)\n",
            "Phương trình 3: Eq(x + y, 1)\n",
            "Phương trình 4: Eq(2*x, 8)\n",
            "Phương trình 5: Eq(y + 4, 5)\n",
            "Phương trình 6: Eq(-y, 8)\n",
            "\n",
            "Hệ phương trình vô nghiệm do phương trình 2: -1 = 6 là sai.\n"
          ]
        }
      ]
    },
    {
      "cell_type": "code",
      "source": [
        "import sympy as sp\n",
        "from sympy import Symbol\n",
        "\n",
        "x1 = Symbol('x1')\n",
        "x2 = Symbol('x2')\n",
        "x3 = Symbol('x3')\n",
        "x4 = Symbol('x4')\n",
        "from sympy import solve\n",
        "pt1 = x4+610-450-x1\n",
        "pt2 = x1+400-x2-640\n",
        "pt3 = x2+600-x3\n",
        "pt4 = x3-x4-520\n",
        "nghiem = sp.solve((pt1, pt2, pt3, pt4))\n",
        "print(nghiem)"
      ],
      "metadata": {
        "colab": {
          "base_uri": "https://localhost:8080/"
        },
        "id": "FAB8S8SoqQoN",
        "outputId": "e718bd36-7545-49b9-920c-070869d36f6b"
      },
      "execution_count": 9,
      "outputs": [
        {
          "output_type": "stream",
          "name": "stdout",
          "text": [
            "{x1: x4 + 160, x2: x4 - 80, x3: x4 + 520}\n"
          ]
        }
      ]
    },
    {
      "cell_type": "code",
      "source": [
        "import numpy as np\n",
        "\n",
        "A1 = np.array([[1, -1], [2, 3]])\n",
        "b1 = np.array([-2, 6])\n",
        "\n",
        "x1 = np.linalg.solve(A1, b1)\n",
        "print(\"Vấn đề 1 - Giao điểm hai đường thẳng:\", x1)\n",
        "\n",
        "A2 = np.array([[1, -1, 0],\n",
        "               [2, -1, -1],\n",
        "               [1, 1, 1]])\n",
        "b2 = np.array([2, 3, 6])\n",
        "\n",
        "x2 = np.linalg.solve(A2, b2)\n",
        "print(\"Vấn đề 2 - Giao điểm ba mặt phẳng:\", x2)\n",
        "\n",
        "A3 = np.array([[1, 1, 1],\n",
        "               [4, 2, 1],\n",
        "               [9, 3, 1]])\n",
        "b3 = np.array([4, 2, 4])\n",
        "\n",
        "x3 = np.linalg.solve(A3, b3)\n",
        "print(\"Vấn đề 3 - Hệ số đa thức bậc hai (a, b, c):\", x3)\n",
        "\n",
        "A4 = np.array([[1, 0, 1],\n",
        "               [1, 1, -2],\n",
        "               [-2, 2, 1]])\n",
        "b4 = np.array([1, -3, 0])\n",
        "\n",
        "x4 = np.linalg.solve(A4, b4)\n",
        "print(\"Vấn đề 4 - Hệ số phân tích phân thức (a, b, c):\", x4)\n"
      ],
      "metadata": {
        "colab": {
          "base_uri": "https://localhost:8080/"
        },
        "id": "9mWEAL1Oq06S",
        "outputId": "a006593c-f80b-4ea2-b2b5-f659d668fc02"
      },
      "execution_count": 10,
      "outputs": [
        {
          "output_type": "stream",
          "name": "stdout",
          "text": [
            "Vấn đề 1 - Giao điểm hai đường thẳng: [0. 2.]\n",
            "Vấn đề 2 - Giao điểm ba mặt phẳng: [3. 1. 2.]\n",
            "Vấn đề 3 - Hệ số đa thức bậc hai (a, b, c): [ 2. -8. 10.]\n",
            "Vấn đề 4 - Hệ số phân tích phân thức (a, b, c): [-0.11111111 -0.66666667  1.11111111]\n"
          ]
        }
      ]
    },
    {
      "cell_type": "code",
      "source": [
        "from sympy import symbols, Eq, solve\n",
        "\n",
        "# Khai báo biến\n",
        "x, y, z, a, b, c = symbols('x y z a b c')\n",
        "\n",
        "# ==== Vấn đề 1: Giao điểm hai đường thẳng trong R^2 ====\n",
        "eq1_1 = Eq(x - y, -2)\n",
        "eq1_2 = Eq(2*x + 3*y, 6)\n",
        "\n",
        "sol1 = solve((eq1_1, eq1_2), (x, y))\n",
        "print(\"🔹 Vấn đề 1 – Giao điểm hai đường thẳng:\")\n",
        "print(sol1)\n",
        "\n",
        "# ==== Vấn đề 2: Giao điểm ba mặt phẳng trong R^3 ====\n",
        "eq2_1 = Eq(x - y, 2)\n",
        "eq2_2 = Eq(2*x - y - z, 3)\n",
        "eq2_3 = Eq(x + y + z, 6)\n",
        "\n",
        "sol2 = solve((eq2_1, eq2_2, eq2_3), (x, y, z))\n",
        "print(\"\\n🔹 Vấn đề 2 – Giao điểm ba mặt phẳng:\")\n",
        "print(sol2)\n",
        "\n",
        "# ==== Vấn đề 3: Tìm hệ số đa thức bậc 2 ====\n",
        "eq3_1 = Eq(a + b + c, 4)\n",
        "eq3_2 = Eq(4*a + 2*b + c, 2)\n",
        "eq3_3 = Eq(9*a + 3*b + c, 4)\n",
        "\n",
        "sol3 = solve((eq3_1, eq3_2, eq3_3), (a, b, c))\n",
        "print(\"\\n🔹 Vấn đề 3 – Hệ số đa thức bậc hai:\")\n",
        "print(sol3)\n",
        "\n",
        "# ==== Vấn đề 4: Phân tích phân thức để tính tích phân ====\n",
        "eq4_1 = Eq(a + c, 1)\n",
        "eq4_2 = Eq(a + b - 2*c, -3)\n",
        "eq4_3 = Eq(-2*a + 2*b + c, 0)\n",
        "\n",
        "sol4 = solve((eq4_1, eq4_2, eq4_3), (a, b, c))\n",
        "print(\"\\n🔹 Vấn đề 4 – Hệ số phân tích phân thức:\")\n",
        "print(sol4)\n"
      ],
      "metadata": {
        "colab": {
          "base_uri": "https://localhost:8080/"
        },
        "id": "GSNkd1LnrdeC",
        "outputId": "088a1ab1-352f-4bdf-c10b-030d820b0ccc"
      },
      "execution_count": 11,
      "outputs": [
        {
          "output_type": "stream",
          "name": "stdout",
          "text": [
            "🔹 Vấn đề 1 – Giao điểm hai đường thẳng:\n",
            "{x: 0, y: 2}\n",
            "\n",
            "🔹 Vấn đề 2 – Giao điểm ba mặt phẳng:\n",
            "{x: 3, y: 1, z: 2}\n",
            "\n",
            "🔹 Vấn đề 3 – Hệ số đa thức bậc hai:\n",
            "{a: 2, b: -8, c: 10}\n",
            "\n",
            "🔹 Vấn đề 4 – Hệ số phân tích phân thức:\n",
            "{a: -1/9, b: -2/3, c: 10/9}\n"
          ]
        }
      ]
    },
    {
      "cell_type": "code",
      "source": [
        "from sympy import Matrix, pprint\n",
        "from sympy.abc import k\n",
        "\n",
        "# Ma trận Fibonacci cơ sở\n",
        "A = Matrix([[1, 1],\n",
        "            [1, 0]])\n",
        "\n",
        "def fibonacci_matrix_power(k):\n",
        "    return A**k\n",
        "\n",
        "# Hàm sinh số Fibonacci\n",
        "def fib(n):\n",
        "    if n == 0: return 0\n",
        "    elif n == 1: return 1\n",
        "    else:\n",
        "        a, b = 0, 1\n",
        "        for _ in range(2, n+1):\n",
        "            a, b = b, a + b\n",
        "        return b\n",
        "\n",
        "# Ví dụ: k = 5\n",
        "k_val = 5\n",
        "Ak = fibonacci_matrix_power(k_val)\n",
        "print(f\"🔹 Ma trận A^{k_val}:\")\n",
        "pprint(Ak)\n",
        "\n",
        "print(f\"\\n🔹 So sánh với các số Fibonacci:\")\n",
        "print(f\"F({k_val+1}) = {fib(k_val+1)}\")\n",
        "print(f\"F({k_val}) = {fib(k_val)}\")\n",
        "print(f\"F({k_val-1}) = {fib(k_val-1)}\")\n",
        "\n",
        "print(\"\\n🔹 Ma trận A^k có chứa:\")\n",
        "print(f\"[ {fib(k_val+1)}  {fib(k_val)} ]\")\n",
        "print(f\"[ {fib(k_val)}   {fib(k_val-1)} ]\")\n"
      ],
      "metadata": {
        "colab": {
          "base_uri": "https://localhost:8080/"
        },
        "id": "7YlmFficrwuR",
        "outputId": "c23e0b61-94d6-4e63-ae3c-155d4537fbe5"
      },
      "execution_count": 12,
      "outputs": [
        {
          "output_type": "stream",
          "name": "stdout",
          "text": [
            "🔹 Ma trận A^5:\n",
            "⎡8  5⎤\n",
            "⎢    ⎥\n",
            "⎣5  3⎦\n",
            "\n",
            "🔹 So sánh với các số Fibonacci:\n",
            "F(6) = 8\n",
            "F(5) = 5\n",
            "F(4) = 3\n",
            "\n",
            "🔹 Ma trận A^k có chứa:\n",
            "[ 8  5 ]\n",
            "[ 5   3 ]\n"
          ]
        }
      ]
    }
  ]
}