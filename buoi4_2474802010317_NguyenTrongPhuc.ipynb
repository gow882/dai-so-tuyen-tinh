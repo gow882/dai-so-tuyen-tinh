{
  "cells": [
    {
      "cell_type": "code",
      "source": [
        "import numpy as np\n",
        "\n",
        "n = 4\n",
        "X = np.array(range(1, n+1))\n",
        "# Hàm tính dấu của hoán vị (sign of permutation)\n",
        "def sgn_by_def(sigma):\n",
        "    ket_qua = 1.0\n",
        "    for i in range(len(X) - 1):\n",
        "        for j in range(i + 1, len(X)):\n",
        "            ket_qua = ket_qua * ((X[i] - X[j]) / (sigma[i] - sigma[j]))\n",
        "    return int(ket_qua)\n",
        "\n",
        "# Kiểm tra các ví dụ trong đề\n",
        "sigma = np.array([2, 1, 3, 4])\n",
        "print(sgn_by_def(sigma))  # Kết quả: -1\n",
        "\n",
        "sigma = np.array([1, 2, 3, 4])\n",
        "print(sgn_by_def(sigma))  # Kết quả: 1\n",
        "\n",
        "sigma = np.array([4, 3, 2, 1])\n",
        "print(sgn_by_def(sigma))  # Kết quả: 1\n"
      ],
      "metadata": {
        "id": "cimktPrqWw_Y",
        "outputId": "89788757-498f-45bc-d40b-b408c2b6ba30",
        "colab": {
          "base_uri": "https://localhost:8080/"
        }
      },
      "execution_count": null,
      "outputs": [
        {
          "output_type": "stream",
          "name": "stdout",
          "text": [
            "-1\n",
            "1\n",
            "1\n"
          ]
        }
      ]
    },
    {
      "cell_type": "code",
      "source": [
        "from itertools import permutations\n",
        "import numpy as np\n",
        "\n",
        "# Hàm tính dấu hoán vị (sgn)\n",
        "def sgn_by_def(sigma):\n",
        "    X = np.array(range(1, len(sigma)+1))\n",
        "    ket_qua = 1.0\n",
        "    for i in range(len(X) - 1):\n",
        "        for j in range(i + 1, len(X)):\n",
        "            ket_qua *= (X[i] - X[j]) / (sigma[i] - sigma[j])\n",
        "    return int(ket_qua)\n",
        "\n",
        "# Hàm phát sinh biểu thức định thức\n",
        "def phatsinh_dinhthuc(n):\n",
        "    X = [i for i in range(1, n+1)]\n",
        "    Sn = list(permutations(X))\n",
        "    dinhthuc = \"\"\n",
        "\n",
        "    for sn in Sn:\n",
        "        sigma = np.array(sn)\n",
        "        product = \"\"\n",
        "        for i in range(1, n + 1):\n",
        "            product += \"a\" + str(i) + str(sn[i - 1])\n",
        "\n",
        "        dau = sgn_by_def(sigma)\n",
        "        if dau != 1:\n",
        "            product = \"- \" + product\n",
        "        else:\n",
        "            product = \"+ \" + product\n",
        "\n",
        "        dinhthuc += product + \" \"\n",
        "\n",
        "    return dinhthuc.strip()\n",
        "\n",
        "# In kết quả ra màn hình\n",
        "print(\"Định thức cấp 2 là:\")\n",
        "print(phatsinh_dinhthuc(2))\n",
        "\n",
        "print(\"\\nĐịnh thức cấp 3 là:\")\n",
        "print(phatsinh_dinhthuc(3))\n"
      ],
      "metadata": {
        "id": "6EJ5OmDEYVr_",
        "outputId": "e387da74-2f63-48b8-cb4c-665b81a77674",
        "colab": {
          "base_uri": "https://localhost:8080/"
        }
      },
      "execution_count": null,
      "outputs": [
        {
          "output_type": "stream",
          "name": "stdout",
          "text": [
            "Định thức cấp 2 là:\n",
            "+ a11a22 - a12a21\n",
            "\n",
            "Định thức cấp 3 là:\n",
            "+ a11a22a33 - a11a23a32 - a12a21a33 + a12a23a31 + a13a21a32 - a13a22a31\n"
          ]
        }
      ]
    },
    {
      "cell_type": "code",
      "source": [
        "import numpy as np\n",
        "import math\n",
        "from itertools import permutations\n",
        "\n",
        "# Hàm tính dấu hoán vị\n",
        "def sgn_by_def(sigma):\n",
        "    X = np.array(range(1, len(sigma)+1))\n",
        "    ket_qua = 1.0\n",
        "    for i in range(len(X) - 1):\n",
        "        for j in range(i + 1, len(X)):\n",
        "            ket_qua *= (X[i] - X[j]) / (sigma[i] - sigma[j])\n",
        "    return int(ket_qua)\n",
        "\n",
        "# Hàm tính giá trị định thức của ma trận A\n",
        "def tinhtoan_dinhthuc(A):\n",
        "    X = []\n",
        "    n = int(math.sqrt(A.size))  # Tính kích thước ma trận\n",
        "    for i in range(1, n + 1):\n",
        "        X.append(i)\n",
        "\n",
        "    Sn = list(permutations(X))\n",
        "    dinhthuc = 0\n",
        "\n",
        "    for sn in Sn:\n",
        "        sigma = np.array(sn)\n",
        "        product = 1\n",
        "        for i in range(1, n + 1):\n",
        "            product *= A[i - 1][sn[i - 1] - 1]  # Nhân các phần tử theo hoán vị\n",
        "        dau = sgn_by_def(sigma)\n",
        "        dinhthuc += dau * product\n",
        "\n",
        "    return dinhthuc\n",
        "\n",
        "# Khai báo ma trận A\n",
        "A = np.array([[3, 5, -8], [4, 12, -1], [2, 5, 3]])\n",
        "\n",
        "# In kết quả định thức ra màn hình\n",
        "print(\"Giá trị định thức của ma trận A là:\", tinhtoan_dinhthuc(A))\n"
      ],
      "metadata": {
        "id": "2ZsSgbq2ZcAI",
        "outputId": "78e3b08b-f105-438d-a3ff-ca7f237216a2",
        "colab": {
          "base_uri": "https://localhost:8080/"
        }
      },
      "execution_count": null,
      "outputs": [
        {
          "output_type": "stream",
          "name": "stdout",
          "text": [
            "Giá trị định thức của ma trận A là: 85\n"
          ]
        }
      ]
    },
    {
      "cell_type": "code",
      "source": [
        "import numpy as np\n",
        "import math\n",
        "from itertools import permutations\n",
        "from scipy import linalg\n",
        "\n",
        "# Hàm tính dấu hoán vị\n",
        "def sgn_by_def(sigma):\n",
        "    X = np.array(range(1, len(sigma)+1))\n",
        "    ket_qua = 1.0\n",
        "    for i in range(len(X) - 1):\n",
        "        for j in range(i + 1, len(X)):\n",
        "            ket_qua *= (X[i] - X[j]) / (sigma[i] - sigma[j])\n",
        "    return int(ket_qua)\n",
        "\n",
        "# Hàm tự viết tính định thức\n",
        "def tinhtoan_dinhthuc(A):\n",
        "    n = int(math.sqrt(A.size))  # Ma trận vuông cấp n\n",
        "    X = list(range(1, n + 1))\n",
        "    Sn = list(permutations(X))\n",
        "    dinhthuc = 0\n",
        "\n",
        "    for sn in Sn:\n",
        "        sigma = np.array(sn)\n",
        "        product = 1\n",
        "        for i in range(1, n + 1):\n",
        "            product *= A[i - 1][sn[i - 1] - 1]\n",
        "        dau = sgn_by_def(sigma)\n",
        "        dinhthuc += dau * product\n",
        "\n",
        "    return dinhthuc\n",
        "\n",
        "# Hệ phương trình:\n",
        "# 4x - 2y = 10\n",
        "# 3x - 5y = 11\n",
        "\n",
        "# Khai báo các ma trận\n",
        "A = np.array([[4, -2], [3, -5]])\n",
        "A1 = np.array([[10, -2], [11, -5]])\n",
        "A2 = np.array([[4, 10], [3, 11]])\n",
        "\n",
        "# Tính bằng scipy\n",
        "detA_sci = linalg.det(A)\n",
        "detA1_sci = linalg.det(A1)\n",
        "detA2_sci = linalg.det(A2)\n",
        "\n",
        "print(\"➡ Kết quả bằng scipy.linalg.det():\")\n",
        "print(\"detA  =\", detA_sci)\n",
        "print(\"detA1 =\", detA1_sci)\n",
        "print(\"detA2 =\", detA2_sci)\n",
        "\n",
        "if detA_sci != 0:\n",
        "    x1 = detA1_sci / detA_sci\n",
        "    x2 = detA2_sci / detA_sci\n",
        "    print(\"→ Nghiệm hệ phương trình là: x1 =\", x1, \", x2 =\", x2)\n",
        "else:\n",
        "    print(\"→ Hệ phương trình vô nghiệm hoặc vô số nghiệm.\")\n",
        "\n",
        "# Tính bằng hàm tự viết\n",
        "detA_tu = tinhtoan_dinhthuc(A)\n",
        "detA1_tu = tinhtoan_dinhthuc(A1)\n",
        "detA2_tu = tinhtoan_dinhthuc(A2)\n",
        "\n",
        "print(\"\\n➡ Kết quả bằng tinhtoan_dinhthuc():\")\n",
        "print(\"detA  =\", detA_tu)\n",
        "print(\"detA1 =\", detA1_tu)\n",
        "print(\"detA2 =\", detA2_tu)\n"
      ],
      "metadata": {
        "id": "gXU38-MXZzqG",
        "outputId": "b337b58a-ff10-4380-cfa2-58102e137f0d",
        "colab": {
          "base_uri": "https://localhost:8080/"
        }
      },
      "execution_count": null,
      "outputs": [
        {
          "output_type": "stream",
          "name": "stdout",
          "text": [
            "➡ Kết quả bằng scipy.linalg.det():\n",
            "detA  = -14.0\n",
            "detA1 = -28.0\n",
            "detA2 = 14.000000000000004\n",
            "→ Nghiệm hệ phương trình là: x1 = 2.0 , x2 = -1.0000000000000002\n",
            "\n",
            "➡ Kết quả bằng tinhtoan_dinhthuc():\n",
            "detA  = -14\n",
            "detA1 = -28\n",
            "detA2 = 14\n"
          ]
        }
      ]
    },
    {
      "cell_type": "code",
      "source": [
        "import numpy as np\n",
        "from scipy import linalg\n",
        "from itertools import permutations\n",
        "\n",
        "# Hàm tính dấu hoán vị\n",
        "def sgn_by_def(sigma):\n",
        "    X = np.array(range(1, len(sigma)+1))\n",
        "    ket_qua = 1.0\n",
        "    for i in range(len(X) - 1):\n",
        "        for j in range(i + 1, len(X)):\n",
        "            ket_qua *= (X[i] - X[j]) / (sigma[i] - sigma[j])\n",
        "    return int(ket_qua)\n",
        "\n",
        "# Hàm tự viết tính định thức\n",
        "def tinhtoan_dinhthuc(A):\n",
        "    n = int(np.sqrt(A.size))\n",
        "    X = list(range(1, n + 1))\n",
        "    Sn = list(permutations(X))\n",
        "    dinhthuc = 0\n",
        "    for sn in Sn:\n",
        "        sigma = np.array(sn)\n",
        "        product = 1\n",
        "        for i in range(1, n + 1):\n",
        "            product *= A[i - 1][sn[i - 1] - 1]\n",
        "        dau = sgn_by_def(sigma)\n",
        "        dinhthuc += dau * product\n",
        "    return dinhthuc\n",
        "\n",
        "# Khai báo các ma trận\n",
        "A = np.array([[1, 2, -3],\n",
        "              [2, -2, 1],\n",
        "              [3, -4, 4]])\n",
        "\n",
        "X = np.array([[1, 2, -3],\n",
        "              [3, -2, 1],\n",
        "              [2, -4, 4]])\n",
        "\n",
        "Y = np.array([[1, 1, -3],\n",
        "              [2, 3, 1],\n",
        "              [3, 2, 4]])\n",
        "\n",
        "Z = np.array([[1, 2, 1],\n",
        "              [2, -2, 3],\n",
        "              [3, -4, 2]])\n",
        "\n",
        "# ===== PHƯƠNG PHÁP 1: DÙNG scipy.linalg.det() =====\n",
        "detA = linalg.det(A)\n",
        "detX = linalg.det(X)\n",
        "detY = linalg.det(Y)\n",
        "detZ = linalg.det(Z)\n",
        "\n",
        "x, y, z = detX / detA, detY / detA, detZ / detA\n",
        "print(\"→ Kết quả dùng scipy.linalg.det():\")\n",
        "print(\"x =\", x, \"y =\", y, \"z =\", z)\n",
        "\n",
        "# ===== PHƯƠNG PHÁP 2: DÙNG tinhtoan_dinhthuc() =====\n",
        "detA2 = tinhtoan_dinhthuc(A)\n",
        "detX2 = tinhtoan_dinhthuc(X)\n",
        "detY2 = tinhtoan_dinhthuc(Y)\n",
        "detZ2 = tinhtoan_dinhthuc(Z)\n",
        "\n",
        "x2, y2, z2 = detX2 / detA2, detY2 / detA2, detZ2 / detA2\n",
        "print(\"\\n→ Kết quả dùng tinhtoan_dinhthuc():\")\n",
        "print(\"x =\", x2, \"y =\", y2, \"z =\", z2)\n"
      ],
      "metadata": {
        "id": "LKEgVaC9aKSN",
        "outputId": "5337dccc-45fa-4836-f303-e6746c1c3794",
        "colab": {
          "base_uri": "https://localhost:8080/"
        }
      },
      "execution_count": null,
      "outputs": [
        {
          "output_type": "stream",
          "name": "stdout",
          "text": [
            "→ Kết quả dùng scipy.linalg.det():\n",
            "x = -0.0 y = -2.500000000000001 z = -2.000000000000001\n",
            "\n",
            "→ Kết quả dùng tinhtoan_dinhthuc():\n",
            "x = -0.0 y = -2.5 z = -2.0\n"
          ]
        }
      ]
    },
    {
      "cell_type": "code",
      "source": [
        "import numpy as np\n",
        "\n",
        "def cofactor_matrix(A):\n",
        "    n = A.shape[0]\n",
        "    cof = np.zeros((n, n))\n",
        "    for i in range(n):\n",
        "        for j in range(n):\n",
        "            minor = np.delete(np.delete(A, i, axis=0), j, axis=1)\n",
        "            cof[i, j] = ((-1) ** (i + j)) * np.linalg.det(minor)\n",
        "    return cof\n",
        "\n",
        "def adjoint_matrix(A):\n",
        "    return cofactor_matrix(A).T\n",
        "\n",
        "# Ma trận ví dụ\n",
        "A = np.array([[2, 1, 3],\n",
        "              [1, 0, 2],\n",
        "              [4, 1, 8]])\n",
        "\n",
        "cof = cofactor_matrix(A)\n",
        "adj = adjoint_matrix(A)\n",
        "\n",
        "print(\"Ma trận hệ số kép:\")\n",
        "print(cof)\n",
        "\n",
        "print(\"\\nMa trận liên hợp:\")\n",
        "print(adj)\n"
      ],
      "metadata": {
        "id": "MoJwZ603ah8d",
        "outputId": "7b386682-0445-4332-d280-d18a5f321834",
        "colab": {
          "base_uri": "https://localhost:8080/"
        }
      },
      "execution_count": null,
      "outputs": [
        {
          "output_type": "stream",
          "name": "stdout",
          "text": [
            "Ma trận hệ số kép:\n",
            "[[-2. -0.  1.]\n",
            " [-5.  4.  2.]\n",
            " [ 2. -1. -1.]]\n",
            "\n",
            "Ma trận liên hợp:\n",
            "[[-2. -5.  2.]\n",
            " [-0.  4. -1.]\n",
            " [ 1.  2. -1.]]\n"
          ]
        }
      ]
    },
    {
      "cell_type": "code",
      "source": [
        "import sympy as sp\n",
        "\n",
        "# Khai báo biến\n",
        "x, y = sp.symbols('x y')\n",
        "\n",
        "# Ba điểm bất kỳ trên đường tròn\n",
        "P1 = (1, 1)\n",
        "P2 = (2, 4)\n",
        "P3 = (5, 3)\n",
        "\n",
        "# Hàm tạo 1 hàng của ma trận từ 1 điểm\n",
        "def circle_row(x0, y0):\n",
        "    return [x0**2 + y0**2, x0, y0, 1]\n",
        "\n",
        "# Ma trận 4x4 để tính định thức\n",
        "M = sp.Matrix([\n",
        "    circle_row(P1[0], P1[1]),\n",
        "    circle_row(P2[0], P2[1]),\n",
        "    circle_row(P3[0], P3[1]),\n",
        "    circle_row(x, y)\n",
        "])\n",
        "\n",
        "# Tính định thức và phương trình đường tròn\n",
        "det = M.det()\n",
        "circle_eq = sp.Eq(det, 0)\n",
        "\n",
        "# In phương trình đường tròn\n",
        "print(\"Phương trình đường tròn đi qua 3 điểm:\")\n",
        "sp.pprint(circle_eq)\n"
      ],
      "metadata": {
        "id": "U6McmcAbbuXT",
        "outputId": "4f8ce847-6036-4534-f0df-458bf316c1ca",
        "colab": {
          "base_uri": "https://localhost:8080/"
        }
      },
      "execution_count": null,
      "outputs": [
        {
          "output_type": "stream",
          "name": "stdout",
          "text": [
            "Phương trình đường tròn đi qua 3 điểm:\n",
            "    2              2                \n",
            "10⋅x  - 60⋅x + 10⋅y  - 40⋅y + 80 = 0\n"
          ]
        }
      ]
    }
  ],
  "metadata": {
    "colab": {
      "toc_visible": true,
      "provenance": []
    },
    "kernelspec": {
      "display_name": "Python 3",
      "name": "python3"
    }
  },
  "nbformat": 4,
  "nbformat_minor": 0
}