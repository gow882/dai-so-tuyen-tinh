{
  "nbformat": 4,
  "nbformat_minor": 0,
  "metadata": {
    "colab": {
      "provenance": [],
      "toc_visible": true
    },
    "kernelspec": {
      "name": "python3",
      "display_name": "Python 3"
    },
    "language_info": {
      "name": "python"
    }
  },
  "cells": [
    {
      "cell_type": "code",
      "execution_count": 1,
      "metadata": {
        "colab": {
          "base_uri": "https://localhost:8080/"
        },
        "id": "uSQLqY-eJ2vf",
        "outputId": "6290c3a5-4b99-463f-afde-0eb3c40c703e"
      },
      "outputs": [
        {
          "output_type": "stream",
          "name": "stdout",
          "text": [
            "a)\n",
            "A + B = [3 3 1 5]\n",
            "3A - 2B = [  4 -11  13 -10]\n"
          ]
        }
      ],
      "source": [
        "\n",
        "import numpy as np\n",
        "\n",
        "A = np.array([2, -1, 3, 0])\n",
        "B = np.array([1, 4, -2, 5])\n",
        "\n",
        "sum_AB = A + B\n",
        "print(\"a)\")\n",
        "print(\"A + B =\", sum_AB)\n",
        "\n",
        "scalar_result = 3 * A - 2 * B\n",
        "print(\"3A - 2B =\", scalar_result)"
      ]
    },
    {
      "cell_type": "code",
      "source": [
        "dot_product = np.dot(A, B)\n",
        "norm_A = np.linalg.norm(A)\n",
        "norm_B = np.linalg.norm(B)\n",
        "cos_theta = dot_product / (norm_A * norm_B)\n",
        "angle_deg = np.degrees(np.arccos(cos_theta))\n",
        "\n",
        "print(\"\\nb)\")\n",
        "print(\"A · B =\", dot_product)\n",
        "print(\"Góc giữa A và B (độ) =\", round(angle_deg, 3))\n",
        ""
      ],
      "metadata": {
        "colab": {
          "base_uri": "https://localhost:8080/"
        },
        "id": "fO4jSzS0KB0q",
        "outputId": "828337fe-a72c-49c8-f430-dbbb7113bbd2"
      },
      "execution_count": 2,
      "outputs": [
        {
          "output_type": "stream",
          "name": "stdout",
          "text": [
            "\n",
            "b)\n",
            "A · B = -8\n",
            "Góc giữa A và B (độ) = 108.376\n"
          ]
        }
      ]
    },
    {
      "cell_type": "code",
      "source": [
        "C = np.array([\n",
        "    [1, 2, -1],\n",
        "    [0, 3, 4],\n",
        "    [2, -1, 0]\n",
        "])\n",
        "\n",
        "C_T = C.T\n",
        "CTC = np.dot(C_T, C)\n",
        "\n",
        "print(\"\\nc)\")\n",
        "print(\"C^T * C =\\n\", CTC)"
      ],
      "metadata": {
        "colab": {
          "base_uri": "https://localhost:8080/"
        },
        "id": "aGIogR3KKGyv",
        "outputId": "eaad2e85-57c1-4a64-8198-b41e1a517333"
      },
      "execution_count": 3,
      "outputs": [
        {
          "output_type": "stream",
          "name": "stdout",
          "text": [
            "\n",
            "c)\n",
            "C^T * C =\n",
            " [[ 5  0 -1]\n",
            " [ 0 14 10]\n",
            " [-1 10 17]]\n"
          ]
        }
      ]
    },
    {
      "cell_type": "code",
      "source": [
        "import numpy as np\n",
        "\n",
        "M = np.array([\n",
        "    [1, 2, 3, 0],\n",
        "    [4, 5, 6, 1],\n",
        "    [7, 8, 9, 2],\n",
        "    [0, 1, 1, 0]\n",
        "])\n",
        "\n",
        "N = np.array([\n",
        "    [0, 1, 2, 3],\n",
        "    [4, 5, 6, 7],\n",
        "    [8, 9, 10, 11],\n",
        "    [12, 13, 14, 15]\n",
        "])\n",
        "\n",
        "product = np.dot(M, N)\n",
        "print(\"a)\")\n",
        "print(\"M × N =\\n\", product)\n",
        "\n"
      ],
      "metadata": {
        "colab": {
          "base_uri": "https://localhost:8080/"
        },
        "id": "Nb_F7kC7KJf3",
        "outputId": "256e17e5-71af-489f-9936-f854efa463c9"
      },
      "execution_count": 4,
      "outputs": [
        {
          "output_type": "stream",
          "name": "stdout",
          "text": [
            "a)\n",
            "M × N =\n",
            " [[ 32  38  44  50]\n",
            " [ 80  96 112 128]\n",
            " [128 154 180 206]\n",
            " [ 12  14  16  18]]\n"
          ]
        }
      ]
    },
    {
      "cell_type": "code",
      "source": [
        "if M.shape[0] == M.shape[1]:\n",
        "    det_M = np.linalg.det(M)\n",
        "    print(\"\\nb)\")\n",
        "    print(\"Định thức của M =\", round(det_M, 3))\n",
        "else:\n",
        "    print(\"\\nb)\")\n",
        "    print(\"Không thể tính định thức vì M không phải là ma trận vuông.\")\n"
      ],
      "metadata": {
        "colab": {
          "base_uri": "https://localhost:8080/"
        },
        "id": "M4Tk4vHAKN_G",
        "outputId": "e088e0de-a598-414d-95c2-8ca64b0c18a7"
      },
      "execution_count": 5,
      "outputs": [
        {
          "output_type": "stream",
          "name": "stdout",
          "text": [
            "\n",
            "b)\n",
            "Định thức của M = 0.0\n"
          ]
        }
      ]
    },
    {
      "cell_type": "code",
      "source": [
        "rank_N = np.linalg.matrix_rank(N)\n",
        "print(\"\\nc)\")\n",
        "print(\"Hạng của ma trận N =\", rank_N)\n"
      ],
      "metadata": {
        "colab": {
          "base_uri": "https://localhost:8080/"
        },
        "id": "V_sBoMvbKRdG",
        "outputId": "f0d2f3e0-cfc3-4034-dcfb-d94b6ee58b2e"
      },
      "execution_count": 6,
      "outputs": [
        {
          "output_type": "stream",
          "name": "stdout",
          "text": [
            "\n",
            "c)\n",
            "Hạng của ma trận N = 2\n"
          ]
        }
      ]
    },
    {
      "cell_type": "code",
      "source": [
        "import numpy as np\n",
        "\n",
        "P = np.array([\n",
        "    [2, 1, 0, 1],\n",
        "    [0, 3, 1, -1],\n",
        "    [1, 0, 4, 2],\n",
        "    [0, 1, 0, 3]\n",
        "])\n",
        "\n",
        "try:\n",
        "    P_inv = np.linalg.inv(P)\n",
        "    print(\"a)\")\n",
        "    print(\"Ma trận nghịch đảo của P là:\\n\", P_inv)\n",
        "except np.linalg.LinAlgError:\n",
        "    print(\"a)\")\n",
        "    print(\"Ma trận P không khả nghịch (không có ma trận nghịch đảo).\")\n",
        ""
      ],
      "metadata": {
        "colab": {
          "base_uri": "https://localhost:8080/"
        },
        "id": "ad5ALgtYKTq_",
        "outputId": "d0297220-c00f-45b3-ea30-e8f180bba0cd"
      },
      "execution_count": 8,
      "outputs": [
        {
          "output_type": "stream",
          "name": "stdout",
          "text": [
            "a)\n",
            "Ma trận nghịch đảo của P là:\n",
            " [[ 0.48837209 -0.09302326  0.02325581 -0.20930233]\n",
            " [ 0.03488372  0.27906977 -0.06976744  0.12790698]\n",
            " [-0.11627907  0.06976744  0.23255814 -0.09302326]\n",
            " [-0.01162791 -0.09302326  0.02325581  0.29069767]]\n"
          ]
        }
      ]
    },
    {
      "cell_type": "code",
      "source": [
        "b = np.array([4, 7, 9, 5])\n",
        "x = np.dot(P_inv, b)\n",
        "print(\"\\nb)\")\n",
        "print(\"Nghiệm của hệ phương trình là:\\n\", x)"
      ],
      "metadata": {
        "colab": {
          "base_uri": "https://localhost:8080/"
        },
        "id": "RLN7lRqHKbIe",
        "outputId": "2004a277-a048-43c8-fafa-c469ef34dd5f"
      },
      "execution_count": 9,
      "outputs": [
        {
          "output_type": "stream",
          "name": "stdout",
          "text": [
            "\n",
            "b)\n",
            "Nghiệm của hệ phương trình là:\n",
            " [0.46511628 2.10465116 1.65116279 0.96511628]\n"
          ]
        }
      ]
    },
    {
      "cell_type": "code",
      "source": [
        "check = np.dot(P, x)\n",
        "print(\"\\nc)\")\n",
        "print(\"Kiểm tra P * x =\\n\", check)\n",
        "print(\"Vector hằng số b =\", b)"
      ],
      "metadata": {
        "colab": {
          "base_uri": "https://localhost:8080/"
        },
        "id": "8FNup3-iKf1d",
        "outputId": "d4365470-b65c-4209-c20f-342abc81f1df"
      },
      "execution_count": 10,
      "outputs": [
        {
          "output_type": "stream",
          "name": "stdout",
          "text": [
            "\n",
            "c)\n",
            "Kiểm tra P * x =\n",
            " [4. 7. 9. 5.]\n",
            "Vector hằng số b = [4 7 9 5]\n"
          ]
        }
      ]
    },
    {
      "cell_type": "code",
      "source": [
        "import numpy as np\n",
        "\n",
        "Q = np.array([\n",
        "    [4, -1, 0],\n",
        "    [1, 3, -2],\n",
        "    [0, 1, 2]\n",
        "])\n",
        "\n",
        "eigenvalues, eigenvectors = np.linalg.eig(Q)\n",
        "\n",
        "print(\"a)\")\n",
        "print(\"Các giá trị riêng của Q là:\\n\", eigenvalues)"
      ],
      "metadata": {
        "colab": {
          "base_uri": "https://localhost:8080/"
        },
        "id": "87SXJ5yEKiut",
        "outputId": "904c000e-2dde-4201-85e5-8fbc3dc66c18"
      },
      "execution_count": 11,
      "outputs": [
        {
          "output_type": "stream",
          "name": "stdout",
          "text": [
            "a)\n",
            "Các giá trị riêng của Q là:\n",
            " [3.45339765+0.j         2.77330117+1.46771151j 2.77330117-1.46771151j]\n"
          ]
        }
      ]
    },
    {
      "cell_type": "code",
      "source": [
        "\n",
        "print(\"\\nb)\")\n",
        "print(\"Các vector riêng (cột) tương ứng với các giá trị riêng là:\\n\", eigenvectors)"
      ],
      "metadata": {
        "colab": {
          "base_uri": "https://localhost:8080/"
        },
        "id": "7QJ397brKlld",
        "outputId": "e9112877-a90a-424c-fc1d-d4fdbc85fa75"
      },
      "execution_count": 12,
      "outputs": [
        {
          "output_type": "stream",
          "name": "stdout",
          "text": [
            "\n",
            "b)\n",
            "Các vector riêng (cột) tương ứng với các giá trị riêng là:\n",
            " [[ 0.83327121+0.j         -0.26206044-0.31354813j -0.26206044+0.31354813j]\n",
            " [ 0.455468  +0.j         -0.78166743+0.j         -0.78166743-0.j        ]\n",
            " [ 0.31338154+0.j         -0.21963176+0.41685708j -0.21963176-0.41685708j]]\n"
          ]
        }
      ]
    },
    {
      "cell_type": "code",
      "source": [
        "normed_vectors = eigenvectors / np.linalg.norm(eigenvectors, axis=0)\n",
        "\n",
        "print(\"\\nc)\")\n",
        "print(\"Các vector riêng sau khi chuẩn hóa là:\\n\", normed_vectors)\n",
        ""
      ],
      "metadata": {
        "colab": {
          "base_uri": "https://localhost:8080/"
        },
        "id": "xlYP-NZ1Kox1",
        "outputId": "4890bf50-1603-4996-8c3f-139c84d4dff5"
      },
      "execution_count": 13,
      "outputs": [
        {
          "output_type": "stream",
          "name": "stdout",
          "text": [
            "\n",
            "c)\n",
            "Các vector riêng sau khi chuẩn hóa là:\n",
            " [[ 0.83327121+0.j         -0.26206044-0.31354813j -0.26206044+0.31354813j]\n",
            " [ 0.455468  +0.j         -0.78166743+0.j         -0.78166743+0.j        ]\n",
            " [ 0.31338154+0.j         -0.21963176+0.41685708j -0.21963176-0.41685708j]]\n"
          ]
        }
      ]
    },
    {
      "cell_type": "code",
      "source": [
        "import numpy as np\n",
        "\n",
        "R = np.array([\n",
        "    [1, -2, 3],\n",
        "    [2, 0, 1],\n",
        "    [-1, 1, 4]\n",
        "])\n",
        "\n",
        "b = np.array([10, 8, 7])\n",
        "\n",
        "x = np.linalg.solve(R, b)\n",
        "print(\"a)\")\n",
        "print(\"Nghiệm x của hệ phương trình là:\\n\", x)"
      ],
      "metadata": {
        "colab": {
          "base_uri": "https://localhost:8080/"
        },
        "id": "FAjVzs6NKrh0",
        "outputId": "e94e6421-3177-44fa-aa8e-6396d0a6d3bb"
      },
      "execution_count": 14,
      "outputs": [
        {
          "output_type": "stream",
          "name": "stdout",
          "text": [
            "a)\n",
            "Nghiệm x của hệ phương trình là:\n",
            " [2.7826087  0.04347826 2.43478261]\n"
          ]
        }
      ]
    },
    {
      "cell_type": "code",
      "source": [
        "if np.linalg.det(R) != 0:\n",
        "    R_inv = np.linalg.inv(R)\n",
        "    x2 = np.dot(R_inv, b)\n",
        "    print(\"\\nb)\")\n",
        "    print(\"Ma trận R khả nghịch.\")\n",
        "    print(\"Nghiệm x tính bằng R⁻¹ * b là:\\n\", x2)\n",
        "else:\n",
        "    print(\"\\nb)\")\n",
        "    print(\"Ma trận R không khả nghịch.\")\n",
        "\n"
      ],
      "metadata": {
        "colab": {
          "base_uri": "https://localhost:8080/"
        },
        "id": "unVrshdRKuAy",
        "outputId": "78dfbc60-33ef-4c90-d1fd-bc546d0636a7"
      },
      "execution_count": 16,
      "outputs": [
        {
          "output_type": "stream",
          "name": "stdout",
          "text": [
            "\n",
            "b)\n",
            "Ma trận R khả nghịch.\n",
            "Nghiệm x tính bằng R⁻¹ * b là:\n",
            " [2.7826087  0.04347826 2.43478261]\n"
          ]
        }
      ]
    },
    {
      "cell_type": "code",
      "source": [
        "fro_norm = np.linalg.norm(R, ord='fro')\n",
        "print(\"\\nc)\")\n",
        "print(\"Chuẩn Frobenius của R là:\", round(fro_norm, 3))"
      ],
      "metadata": {
        "colab": {
          "base_uri": "https://localhost:8080/"
        },
        "id": "LEVqJNeBKzXF",
        "outputId": "f7ed82a9-bf66-448c-9e8e-3f14fed2d250"
      },
      "execution_count": 17,
      "outputs": [
        {
          "output_type": "stream",
          "name": "stdout",
          "text": [
            "\n",
            "c)\n",
            "Chuẩn Frobenius của R là: 6.083\n"
          ]
        }
      ]
    }
  ]
}