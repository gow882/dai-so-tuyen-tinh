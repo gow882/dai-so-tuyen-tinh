{
  "cells": [
    {
      "cell_type": "code",
      "source": [
        "import numpy as np\n",
        "a = np.array([1,2,3])\n",
        "b = np.array([4,5,6])\n",
        "tich = np.inner(a,b) # tích vô hướng\n",
        "print (tich)\n",
        "c =  np.dot(a,b)\n",
        "print(c)"
      ],
      "metadata": {
        "id": "0Wb86kcad_WD",
        "outputId": "0a13b13a-5628-40e7-8d7d-d13c855d5e52",
        "colab": {
          "base_uri": "https://localhost:8080/"
        }
      },
      "execution_count": null,
      "outputs": [
        {
          "output_type": "stream",
          "name": "stdout",
          "text": [
            "32\n",
            "32\n"
          ]
        }
      ]
    },
    {
      "cell_type": "code",
      "source": [
        "import math\n",
        "import numpy as np\n",
        "from scipy import linalg\n",
        "\n",
        "# Hàm chuẩn do bạn định nghĩa\n",
        "def chuan(v, k):\n",
        "    tong = 0\n",
        "    for i in range(len(v)):\n",
        "        tong += abs(v[i])**k\n",
        "    ketqua = math.pow(tong, 1.0 / k)  # lấy căn bậc k\n",
        "    return ketqua\n",
        "\n",
        "# Khởi tạo vector\n",
        "a = np.array([1, 2, -3])\n",
        "\n",
        "# Các bậc chuẩn muốn kiểm tra\n",
        "bac_list = [1, 2, 3, 1000]\n",
        "\n",
        "print(\"Vector a:\", a)\n",
        "for k in bac_list:\n",
        "    print(f\"\\nChuẩn bậc {k}:\")\n",
        "    print(\"  chuan(a, {}):\".format(k), chuan(a, k))\n",
        "    print(\"  np.linalg.norm(a, {}):\".format(k), np.linalg.norm(a, k))\n",
        "    print(\"  scipy.linalg.norm(a, {}):\".format(k), linalg.norm(a, k))\n",
        "\n",
        "# Thêm chuẩn mặc định (chuẩn 2)\n",
        "print(\"\\nChuẩn mặc định (norm 2):\")\n",
        "print(\"  scipy.linalg.norm(a):\", linalg.norm(a))\n"
      ],
      "metadata": {
        "id": "huvEudkXfKlp",
        "outputId": "f4fe50cf-a24d-4203-b3aa-dd4eeaff8cb9",
        "colab": {
          "base_uri": "https://localhost:8080/"
        }
      },
      "execution_count": null,
      "outputs": [
        {
          "output_type": "stream",
          "name": "stdout",
          "text": [
            "Vector a: [ 1  2 -3]\n",
            "\n",
            "Chuẩn bậc 1:\n",
            "  chuan(a, 1): 6.0\n",
            "  np.linalg.norm(a, 1): 6.0\n",
            "  scipy.linalg.norm(a, 1): 6.0\n",
            "\n",
            "Chuẩn bậc 2:\n",
            "  chuan(a, 2): 3.7416573867739413\n",
            "  np.linalg.norm(a, 2): 3.7416573867739413\n",
            "  scipy.linalg.norm(a, 2): 3.7416573867739413\n",
            "\n",
            "Chuẩn bậc 3:\n",
            "  chuan(a, 3): 3.3019272488946263\n",
            "  np.linalg.norm(a, 3): 3.3019272488946263\n",
            "  scipy.linalg.norm(a, 3): 3.3019272488946263\n",
            "\n",
            "Chuẩn bậc 1000:\n",
            "  chuan(a, 1000): 1.0442214818467515\n",
            "  np.linalg.norm(a, 1000): inf\n",
            "  scipy.linalg.norm(a, 1000): inf\n",
            "\n",
            "Chuẩn mặc định (norm 2):\n",
            "  scipy.linalg.norm(a): 3.7416573867739413\n"
          ]
        },
        {
          "output_type": "stream",
          "name": "stderr",
          "text": [
            "/usr/local/lib/python3.11/dist-packages/numpy/linalg/_linalg.py:2780: RuntimeWarning: overflow encountered in power\n",
            "  absx **= ord\n"
          ]
        }
      ]
    },
    {
      "cell_type": "code",
      "source": [
        "import numpy as np\n",
        "\n",
        "# Khởi tạo dữ liệu\n",
        "m = 10\n",
        "v1 = np.array([5, -4, 3])\n",
        "v2 = np.array([4, 3, -2])\n",
        "v3 = np.array([-4, -3, -1])\n",
        "v4 = np.array([-9, 8, 6])\n",
        "mi = np.array([2, 5, 2, 1])\n",
        "M = np.array([v1, v2, v3, v4])\n",
        "\n",
        "# Ma trận chuyển vị\n",
        "MT = M.transpose()\n",
        "print(\"Ma trận chuyển vị MT:\")\n",
        "print(MT)\n",
        "\n",
        "# Tính vector v = (1/m) * MT.dot(mi)\n",
        "v = (1.0 / m) * MT.dot(mi)\n",
        "print(\"\\nVector v = (1/m) * MT.dot(mi):\")\n",
        "print(v)\n"
      ],
      "metadata": {
        "id": "fvm73XTEgCFW",
        "outputId": "d08e09d1-8c44-4b92-b25c-5bcb09d92ecb",
        "colab": {
          "base_uri": "https://localhost:8080/"
        }
      },
      "execution_count": null,
      "outputs": [
        {
          "output_type": "stream",
          "name": "stdout",
          "text": [
            "Ma trận chuyển vị MT:\n",
            "[[ 5  4 -4 -9]\n",
            " [-4  3 -3  8]\n",
            " [ 3 -2 -1  6]]\n",
            "\n",
            "Vector v = (1/m) * MT.dot(mi):\n",
            "[1.3 0.9 0. ]\n"
          ]
        }
      ]
    },
    {
      "cell_type": "code",
      "source": [
        "import sympy as sym\n",
        "x, y = sym.symbols('x y')\n",
        "xy = sym.Matrix([x,y]) # khai báo vector: (x, y)T\n",
        "A = sym.Matrix([[1, -68],[1,1]])\n",
        "v = sym.Matrix([0, 1])\n",
        "nghiem = sym.solve([A*xy-v]) # phương trình được chuyển về 1 phía\n",
        "print(sym.pretty(nghiem))"
      ],
      "metadata": {
        "id": "Y-RP88DggiG-",
        "outputId": "b1162223-7255-4cff-8851-a63407af2c14",
        "colab": {
          "base_uri": "https://localhost:8080/"
        }
      },
      "execution_count": null,
      "outputs": [
        {
          "output_type": "stream",
          "name": "stdout",
          "text": [
            "⎧   68         ⎫\n",
            "⎨x: ──, y: 1/69⎬\n",
            "⎩   69         ⎭\n"
          ]
        }
      ]
    },
    {
      "cell_type": "code",
      "source": [
        "import sympy\n",
        "x, y, Lambda = sympy.symbols('x y Lambda')\n",
        "I = sympy.eye(2)\n",
        "A = sympy.Matrix([[2, 3], [3, -6]])\n",
        "phuongtrinh = sympy.Eq(sympy.det(Lambda * I - A), 0)\n",
        "nghiem = sympy.solve(phuongtrinh)\n",
        "print([sympy.N(phantu, 4) for phantu in nghiem])\n",
        "print (sympy.pretty(nghiem))\n"
      ],
      "metadata": {
        "id": "DDL8aiNfg2Gl",
        "outputId": "d2463c27-e3e4-48bd-a5b8-67884b2035c8",
        "colab": {
          "base_uri": "https://localhost:8080/"
        }
      },
      "execution_count": null,
      "outputs": [
        {
          "output_type": "stream",
          "name": "stdout",
          "text": [
            "[-7.000, 3.000]\n",
            "[-7, 3]\n"
          ]
        }
      ]
    },
    {
      "cell_type": "code",
      "source": [
        "import numpy as np\n",
        "from numpy import linalg as LA\n",
        "\n",
        "# Ma trận ban đầu\n",
        "A = np.array([[2, 3], [3, -6]])\n",
        "D = np.array([[-7, 0], [0, 3]])\n",
        "P = np.array([[-1.0/3, 3], [1, 1]])\n",
        "\n",
        "# 1. Tính nghịch đảo của P\n",
        "P1 = LA.inv(P)\n",
        "print(\"P^(-1):\")\n",
        "print(P1)\n",
        "\n",
        "# 2. Kiểm tra A * P và P * D\n",
        "print(\"\\nA.dot(P):\")\n",
        "print(A.dot(P))\n",
        "\n",
        "print(\"\\nP.dot(D):\")\n",
        "print(P.dot(D))\n",
        "\n",
        "# 3. Kiểm tra D ** 2\n",
        "print(\"\\nD ** 2:\")\n",
        "print(D @ D)  # tương đương với D ** 2\n",
        "\n",
        "# 4. Tính A^1000 bằng công thức A^k = P D^k P^(-1)\n",
        "A_1000 = P @ (D ** 1000) @ P1\n",
        "print(\"\\nA^1000 = P @ (D ** 1000) @ P^(-1):\")\n",
        "print(A_1000)\n"
      ],
      "metadata": {
        "id": "TXMhKQbyhCUd",
        "outputId": "bc51f2b8-334e-4863-d6a0-2eebac2f5459",
        "colab": {
          "base_uri": "https://localhost:8080/"
        }
      },
      "execution_count": null,
      "outputs": [
        {
          "output_type": "stream",
          "name": "stdout",
          "text": [
            "P^(-1):\n",
            "[[-0.3  0.9]\n",
            " [ 0.3  0.1]]\n",
            "\n",
            "A.dot(P):\n",
            "[[ 2.33333333  9.        ]\n",
            " [-7.          3.        ]]\n",
            "\n",
            "P.dot(D):\n",
            "[[ 2.33333333  9.        ]\n",
            " [-7.          3.        ]]\n",
            "\n",
            "D ** 2:\n",
            "[[49  0]\n",
            " [ 0  9]]\n",
            "\n",
            "A^1000 = P @ (D ** 1000) @ P^(-1):\n",
            "[[ 5.03503397e+18  3.50482117e+18]\n",
            " [ 3.50482117e+18 -4.31115581e+18]]\n"
          ]
        }
      ]
    },
    {
      "cell_type": "code",
      "source": [
        "[Trắc nghiệm] Trong Python 3, các câu lệnh sau đây, câu lệnh nào tính chuẩn 2 của\n",
        "vector a. Với a được xác định là:\n",
        ">>> import numpy as np\n",
        ">>> a = np.array([1,2,3])\n",
        "a. >>> mag = np.sqrt(a.dot(a))\n",
        "b. >>> mag = np.sqrt(a @ a )\n",
        "c. >>> mag = np.sqrt(np.inner(a,a))\n",
        "d. >>> mag = lambda x : math.sqrt(sum(i** 2 for i in x))\n",
        ">>> mag(a)\n",
        "a,b,c đúng"
      ],
      "metadata": {
        "id": "B6W-v5q4hVgG"
      },
      "execution_count": null,
      "outputs": []
    },
    {
      "cell_type": "code",
      "source": [
        "import numpy as np\n",
        "\n",
        "# Khởi tạo 2 vector u và v\n",
        "u = np.array([1, 2, 3])   # bạn có thể thay bằng vector khác\n",
        "v = np.array([4, 0, -1])  # vector khác\n",
        "\n",
        "# Tính khoảng cách giữa 2 vector\n",
        "distance = np.linalg.norm(u - v)\n",
        "\n",
        "print(\"Khoảng cách giữa u và v là:\", distance)\n"
      ],
      "metadata": {
        "id": "G6f59MY0iADs",
        "outputId": "8d9c66f4-307f-4eee-91ca-88e925c9a03c",
        "colab": {
          "base_uri": "https://localhost:8080/"
        }
      },
      "execution_count": null,
      "outputs": [
        {
          "output_type": "stream",
          "name": "stdout",
          "text": [
            "Khoảng cách giữa u và v là: 5.385164807134504\n"
          ]
        }
      ]
    },
    {
      "cell_type": "code",
      "source": [
        "import numpy as np\n",
        "\n",
        "# Nhập 2 vector\n",
        "u = np.array([float(x) for x in input(\"Nhập vector u (cách nhau bằng dấu cách): \").split()])\n",
        "v = np.array([float(x) for x in input(\"Nhập vector v (cách nhau bằng dấu cách): \").split()])\n",
        "\n",
        "# Tính tích vô hướng và độ dài 2 vector\n",
        "dot_product = np.dot(u, v)\n",
        "norm_u = np.linalg.norm(u)\n",
        "norm_v = np.linalg.norm(v)\n",
        "\n",
        "# Tính góc S bằng arccos\n",
        "cos_theta = dot_product / (norm_u * norm_v)\n",
        "\n",
        "# Chặn giá trị để tránh lỗi do làm tròn (giới hạn trong [-1, 1])\n",
        "cos_theta = np.clip(cos_theta, -1.0, 1.0)\n",
        "\n",
        "# Tính góc (đơn vị radian và độ)\n",
        "theta_rad = np.arccos(cos_theta)\n",
        "theta_deg = np.degrees(theta_rad)\n",
        "\n",
        "print(f\"Góc S giữa 2 vector (radian): {theta_rad}\")\n",
        "print(f\"Góc S giữa 2 vector (độ): {theta_deg}\")\n"
      ],
      "metadata": {
        "id": "yRMVMq82ioys",
        "outputId": "58cef039-519d-4556-9e33-cb988830d5a1",
        "colab": {
          "base_uri": "https://localhost:8080/"
        }
      },
      "execution_count": null,
      "outputs": [
        {
          "output_type": "stream",
          "name": "stdout",
          "text": [
            "Nhập vector u (cách nhau bằng dấu cách):  5 6 7\n",
            "Nhập vector v (cách nhau bằng dấu cách): 7 8 9\n",
            "Góc S giữa 2 vector (radian): 0.03354206928398118\n",
            "Góc S giữa 2 vector (độ): 1.9218190061075167\n"
          ]
        }
      ]
    },
    {
      "cell_type": "code",
      "source": [
        "import numpy as np\n",
        "\n",
        "# Nhập vector u và v\n",
        "u = np.array([float(x) for x in input(\"Nhập vector u (cách nhau bằng dấu cách): \").split()])\n",
        "v = np.array([float(x) for x in input(\"Nhập vector v (cách nhau bằng dấu cách): \").split()])\n",
        "\n",
        "# Tính tích vô hướng và chuẩn bình phương của v\n",
        "dot_uv = np.dot(u, v)\n",
        "dot_vv = np.dot(v, v)\n",
        "\n",
        "# Tính phép chiếu trực giao\n",
        "projection = (dot_uv / dot_vv) * v\n",
        "\n",
        "print(\"Phép chiếu trực giao của u lên v là:\")\n",
        "print(projection)\n"
      ],
      "metadata": {
        "id": "1l8VeQbZjGA7",
        "outputId": "efb495c3-ad8a-43b2-893a-cd95b4f876e2",
        "colab": {
          "base_uri": "https://localhost:8080/"
        }
      },
      "execution_count": null,
      "outputs": [
        {
          "output_type": "stream",
          "name": "stdout",
          "text": [
            "Nhập vector u (cách nhau bằng dấu cách): 4 7 8\n",
            "Nhập vector v (cách nhau bằng dấu cách): 6 4 9\n",
            "Phép chiếu trực giao của u lên v là:\n",
            "[5.59398496 3.72932331 8.39097744]\n"
          ]
        }
      ]
    }
  ],
  "metadata": {
    "colab": {
      "toc_visible": true,
      "provenance": []
    },
    "kernelspec": {
      "display_name": "Python 3",
      "name": "python3"
    }
  },
  "nbformat": 4,
  "nbformat_minor": 0
}